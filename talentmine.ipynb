{
  "cells": [
    {
      "cell_type": "markdown",
      "metadata": {
        "id": "view-in-github",
        "colab_type": "text"
      },
      "source": [
        "<a href=\"https://colab.research.google.com/github/mahsarahavi/TalentMind1/blob/main/talentmine.ipynb\" target=\"_parent\"><img src=\"https://colab.research.google.com/assets/colab-badge.svg\" alt=\"Open In Colab\"/></a>"
      ]
    },
    {
      "cell_type": "code",
      "execution_count": null,
      "metadata": {
        "colab": {
          "base_uri": "https://localhost:8080/"
        },
        "id": "nGcGqb_6O4RQ",
        "outputId": "a22a731f-e573-41b7-e461-2e61c87064f0"
      },
      "outputs": [
        {
          "name": "stdout",
          "output_type": "stream",
          "text": [
            "Requirement already satisfied: kaggle in /usr/local/lib/python3.7/dist-packages (1.5.12)\n",
            "Requirement already satisfied: urllib3 in /usr/local/lib/python3.7/dist-packages (from kaggle) (1.24.3)\n",
            "Requirement already satisfied: python-dateutil in /usr/local/lib/python3.7/dist-packages (from kaggle) (2.8.2)\n",
            "Requirement already satisfied: requests in /usr/local/lib/python3.7/dist-packages (from kaggle) (2.23.0)\n",
            "Requirement already satisfied: tqdm in /usr/local/lib/python3.7/dist-packages (from kaggle) (4.64.0)\n",
            "Requirement already satisfied: python-slugify in /usr/local/lib/python3.7/dist-packages (from kaggle) (6.1.2)\n",
            "Requirement already satisfied: six>=1.10 in /usr/local/lib/python3.7/dist-packages (from kaggle) (1.15.0)\n",
            "Requirement already satisfied: certifi in /usr/local/lib/python3.7/dist-packages (from kaggle) (2021.10.8)\n",
            "Requirement already satisfied: text-unidecode>=1.3 in /usr/local/lib/python3.7/dist-packages (from python-slugify->kaggle) (1.3)\n",
            "Requirement already satisfied: chardet<4,>=3.0.2 in /usr/local/lib/python3.7/dist-packages (from requests->kaggle) (3.0.4)\n",
            "Requirement already satisfied: idna<3,>=2.5 in /usr/local/lib/python3.7/dist-packages (from requests->kaggle) (2.10)\n"
          ]
        }
      ],
      "source": [
        "!pip install kaggle"
      ]
    },
    {
      "cell_type": "code",
      "execution_count": 1,
      "metadata": {
        "colab": {
          "base_uri": "https://localhost:8080/",
          "height": 91,
          "resources": {
            "http://localhost:8080/nbextensions/google.colab/files.js": {
              "data": "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",
              "headers": [
                [
                  "content-type",
                  "application/javascript"
                ]
              ],
              "ok": true,
              "status": 200,
              "status_text": ""
            }
          }
        },
        "id": "Qq7FsfwLQmMI",
        "outputId": "8b653f74-80f9-4013-acb8-bc4548e9f87d"
      },
      "outputs": [
        {
          "output_type": "display_data",
          "data": {
            "text/plain": [
              "<IPython.core.display.HTML object>"
            ],
            "text/html": [
              "\n",
              "     <input type=\"file\" id=\"files-0c72e924-da40-4c14-a228-d70e4b5c9c87\" name=\"files[]\" multiple disabled\n",
              "        style=\"border:none\" />\n",
              "     <output id=\"result-0c72e924-da40-4c14-a228-d70e4b5c9c87\">\n",
              "      Upload widget is only available when the cell has been executed in the\n",
              "      current browser session. Please rerun this cell to enable.\n",
              "      </output>\n",
              "      <script src=\"/nbextensions/google.colab/files.js\"></script> "
            ]
          },
          "metadata": {}
        },
        {
          "output_type": "stream",
          "name": "stdout",
          "text": [
            "Saving kaggle.json to kaggle.json\n"
          ]
        },
        {
          "output_type": "execute_result",
          "data": {
            "text/plain": [
              "{'kaggle.json': b'{\"username\":\"mahsarahavi\",\"key\":\"f7c63e48be9775b69d8826dbd9168563\"}'}"
            ]
          },
          "metadata": {},
          "execution_count": 1
        }
      ],
      "source": [
        "from google.colab import files\n",
        "files.upload()"
      ]
    },
    {
      "cell_type": "code",
      "execution_count": 2,
      "metadata": {
        "id": "X-8Pwt5ARGaJ"
      },
      "outputs": [],
      "source": [
        "!mkdir -p ~/.kaggle\n",
        "!cp kaggle.json ~/.kaggle/\n",
        "!chmod 600 ~/.kaggle/kaggle.json"
      ]
    },
    {
      "cell_type": "code",
      "execution_count": 3,
      "metadata": {
        "colab": {
          "base_uri": "https://localhost:8080/"
        },
        "id": "jio9QxHWRGmq",
        "outputId": "b051c4fb-9a99-475c-fbe5-a8a073394387"
      },
      "outputs": [
        {
          "output_type": "stream",
          "name": "stdout",
          "text": [
            "Downloading talentmindphase1.zip to /content\n",
            " 96% 89.0M/92.7M [00:03<00:00, 20.6MB/s]\n",
            "100% 92.7M/92.7M [00:03<00:00, 24.9MB/s]\n"
          ]
        }
      ],
      "source": [
        "!kaggle datasets download -d alisharifi2000/talentmindphase1"
      ]
    },
    {
      "cell_type": "code",
      "execution_count": 4,
      "metadata": {
        "colab": {
          "base_uri": "https://localhost:8080/"
        },
        "id": "kF6t7K6RRG2B",
        "outputId": "42af6be7-44a0-4939-84a3-41bddb4b2b8b"
      },
      "outputs": [
        {
          "output_type": "stream",
          "name": "stdout",
          "text": [
            "kaggle.json  sample_data  talentmindphase1.zip\n"
          ]
        }
      ],
      "source": [
        "!ls"
      ]
    },
    {
      "cell_type": "code",
      "execution_count": 5,
      "metadata": {
        "id": "BBpQq38rR1ow"
      },
      "outputs": [],
      "source": [
        "import zipfile\n",
        "zip_ref = zipfile.ZipFile('talentmindphase1.zip', 'r')\n",
        "zip_ref.extractall('files')\n",
        "zip_ref.close()\n",
        "import pandas as pd\n",
        "import numpy as np"
      ]
    },
    {
      "cell_type": "code",
      "execution_count": 6,
      "metadata": {
        "id": "-TBpkD-BT1QW"
      },
      "outputs": [],
      "source": [
        "data = pd.read_csv('/content/files/data.csv', lineterminator='\\n')"
      ]
    },
    {
      "cell_type": "code",
      "execution_count": 7,
      "metadata": {
        "colab": {
          "base_uri": "https://localhost:8080/"
        },
        "id": "Oc23Xp_5Uwzu",
        "outputId": "f4841886-3a86-441a-bb98-f58128d383df"
      },
      "outputs": [
        {
          "output_type": "execute_result",
          "data": {
            "text/plain": [
              "(268850, 49)"
            ]
          },
          "metadata": {},
          "execution_count": 7
        }
      ],
      "source": [
        "data.shape"
      ]
    },
    {
      "cell_type": "code",
      "execution_count": 8,
      "metadata": {
        "colab": {
          "base_uri": "https://localhost:8080/"
        },
        "id": "VYBQJdAtUw4n",
        "outputId": "283d783d-1d43-4183-c748-476d2597ee3a"
      },
      "outputs": [
        {
          "output_type": "execute_result",
          "data": {
            "text/plain": [
              "array([     0,      1,      2, ..., 268847, 268848, 268849])"
            ]
          },
          "metadata": {},
          "execution_count": 8
        }
      ],
      "source": [
        "data.index.values"
      ]
    },
    {
      "cell_type": "code",
      "execution_count": 9,
      "metadata": {
        "colab": {
          "base_uri": "https://localhost:8080/"
        },
        "id": "aU2536RFX66r",
        "outputId": "5f89e1be-b569-4646-864c-d9385c4e996b"
      },
      "outputs": [
        {
          "output_type": "stream",
          "name": "stdout",
          "text": [
            "<class 'pandas.core.frame.DataFrame'>\n",
            "RangeIndex: 268850 entries, 0 to 268849\n",
            "Data columns (total 49 columns):\n",
            " #   Column                    Non-Null Count   Dtype  \n",
            "---  ------                    --------------   -----  \n",
            " 0   regio1                    267350 non-null  object \n",
            " 1   serviceCharge             260476 non-null  float64\n",
            " 2   heatingType               222731 non-null  object \n",
            " 3   telekomTvOffer            234894 non-null  object \n",
            " 4   telekomHybridUploadSpeed  44759 non-null   float64\n",
            " 5   newlyConst                267350 non-null  object \n",
            " 6   balcony                   267350 non-null  object \n",
            " 7   picturecount              267350 non-null  float64\n",
            " 8   pricetrend                265528 non-null  float64\n",
            " 9   telekomUploadSpeed        234156 non-null  float64\n",
            " 10  totalRent                 227042 non-null  float64\n",
            " 11  yearConstructed           210610 non-null  float64\n",
            " 12  scoutId                   268850 non-null  int64  \n",
            " 13  noParkSpaces              92505 non-null   float64\n",
            " 14  firingTypes               210700 non-null  object \n",
            " 15  hasKitchen                267350 non-null  object \n",
            " 16  geo_bln                   267350 non-null  object \n",
            " 17  cellar                    267350 non-null  object \n",
            " 18  yearConstructedRange      210610 non-null  float64\n",
            " 19  baseRent                  267350 non-null  float64\n",
            " 20  houseNumber               196714 non-null  object \n",
            " 21  livingSpace               267350 non-null  float64\n",
            " 22  geo_krs                   267350 non-null  object \n",
            " 23  condition                 199266 non-null  object \n",
            " 24  interiorQual              155309 non-null  object \n",
            " 25  petsAllowed               153402 non-null  object \n",
            " 26  street                    267350 non-null  object \n",
            " 27  streetPlain               196719 non-null  object \n",
            " 28  lift                      267350 non-null  object \n",
            " 29  baseRentRange             267350 non-null  float64\n",
            " 30  typeOfFlat                230919 non-null  object \n",
            " 31  geo_plz                   268850 non-null  int64  \n",
            " 32  noRooms                   268850 non-null  float64\n",
            " 33  thermalChar               162344 non-null  float64\n",
            " 34  floor                     217541 non-null  float64\n",
            " 35  numberOfFloors            171118 non-null  float64\n",
            " 36  noRoomsRange              268850 non-null  int64  \n",
            " 37  garden                    268850 non-null  bool   \n",
            " 38  livingSpaceRange          268850 non-null  int64  \n",
            " 39  regio2                    268850 non-null  object \n",
            " 40  regio3                    268850 non-null  object \n",
            " 41  description               247708 non-null  object \n",
            " 42  facilities                214701 non-null  object \n",
            " 43  heatingCosts              85040 non-null   float64\n",
            " 44  energyEfficiencyClass     77352 non-null   object \n",
            " 45  lastRefurbish             80254 non-null   float64\n",
            " 46  electricityBasePrice      46598 non-null   float64\n",
            " 47  electricityKwhPrice       46598 non-null   float64\n",
            " 48  date                      268850 non-null  object \n",
            "dtypes: bool(1), float64(20), int64(4), object(24)\n",
            "memory usage: 98.7+ MB\n"
          ]
        }
      ],
      "source": [
        "data.info()"
      ]
    },
    {
      "cell_type": "code",
      "execution_count": 10,
      "metadata": {
        "colab": {
          "base_uri": "https://localhost:8080/"
        },
        "id": "xoOYbc-0X7Jl",
        "outputId": "46827fcd-1648-48a1-cd79-71d940fbfe89"
      },
      "outputs": [
        {
          "output_type": "execute_result",
          "data": {
            "text/plain": [
              "regio1                          16\n",
              "serviceCharge                12224\n",
              "heatingType                     13\n",
              "telekomTvOffer                   3\n",
              "telekomHybridUploadSpeed         1\n",
              "newlyConst                       2\n",
              "balcony                          2\n",
              "picturecount                    94\n",
              "pricetrend                    1234\n",
              "telekomUploadSpeed               7\n",
              "totalRent                    29076\n",
              "yearConstructed                464\n",
              "scoutId                     268850\n",
              "noParkSpaces                    71\n",
              "firingTypes                    132\n",
              "hasKitchen                       2\n",
              "geo_bln                         16\n",
              "cellar                           2\n",
              "yearConstructedRange             9\n",
              "baseRent                     26566\n",
              "houseNumber                   5492\n",
              "livingSpace                  12992\n",
              "geo_krs                        419\n",
              "condition                       10\n",
              "interiorQual                     4\n",
              "petsAllowed                      3\n",
              "street                       52207\n",
              "streetPlain                  54315\n",
              "lift                             2\n",
              "baseRentRange                    9\n",
              "typeOfFlat                      10\n",
              "geo_plz                       7634\n",
              "noRooms                         64\n",
              "thermalChar                   7847\n",
              "floor                           53\n",
              "numberOfFloors                  57\n",
              "noRoomsRange                     5\n",
              "garden                           2\n",
              "livingSpaceRange                 7\n",
              "regio2                         419\n",
              "regio3                        8684\n",
              "description                 211490\n",
              "facilities                  188513\n",
              "heatingCosts                  5652\n",
              "energyEfficiencyClass           10\n",
              "lastRefurbish                   86\n",
              "electricityBasePrice             2\n",
              "electricityKwhPrice             15\n",
              "date                             4\n",
              "dtype: int64"
            ]
          },
          "metadata": {},
          "execution_count": 10
        }
      ],
      "source": [
        "data.nunique()"
      ]
    },
    {
      "cell_type": "code",
      "execution_count": 11,
      "metadata": {
        "colab": {
          "base_uri": "https://localhost:8080/"
        },
        "id": "4czfnLBNX7Ne",
        "outputId": "9497dd41-28cc-4bf8-a4dd-5ad8457a6d14"
      },
      "outputs": [
        {
          "output_type": "execute_result",
          "data": {
            "text/plain": [
              "regio1                        1500\n",
              "serviceCharge                 8374\n",
              "heatingType                  46119\n",
              "telekomTvOffer               33956\n",
              "telekomHybridUploadSpeed    224091\n",
              "newlyConst                    1500\n",
              "balcony                       1500\n",
              "picturecount                  1500\n",
              "pricetrend                    3322\n",
              "telekomUploadSpeed           34694\n",
              "totalRent                    41808\n",
              "yearConstructed              58240\n",
              "scoutId                          0\n",
              "noParkSpaces                176345\n",
              "firingTypes                  58150\n",
              "hasKitchen                    1500\n",
              "geo_bln                       1500\n",
              "cellar                        1500\n",
              "yearConstructedRange         58240\n",
              "baseRent                      1500\n",
              "houseNumber                  72136\n",
              "livingSpace                   1500\n",
              "geo_krs                       1500\n",
              "condition                    69584\n",
              "interiorQual                113541\n",
              "petsAllowed                 115448\n",
              "street                        1500\n",
              "streetPlain                  72131\n",
              "lift                          1500\n",
              "baseRentRange                 1500\n",
              "typeOfFlat                   37931\n",
              "geo_plz                          0\n",
              "noRooms                          0\n",
              "thermalChar                 106506\n",
              "floor                        51309\n",
              "numberOfFloors               97732\n",
              "noRoomsRange                     0\n",
              "garden                           0\n",
              "livingSpaceRange                 0\n",
              "regio2                           0\n",
              "regio3                           0\n",
              "description                  21142\n",
              "facilities                   54149\n",
              "heatingCosts                183810\n",
              "energyEfficiencyClass       191498\n",
              "lastRefurbish               188596\n",
              "electricityBasePrice        222252\n",
              "electricityKwhPrice         222252\n",
              "date                             0\n",
              "dtype: int64"
            ]
          },
          "metadata": {},
          "execution_count": 11
        }
      ],
      "source": [
        "data.isnull().sum()"
      ]
    },
    {
      "cell_type": "code",
      "source": [
        "data.head()"
      ],
      "metadata": {
        "id": "TWDa9dMf1QQl",
        "outputId": "c1171a1f-3741-4717-fab0-602247ecb9cf",
        "colab": {
          "base_uri": "https://localhost:8080/",
          "height": 577
        }
      },
      "execution_count": 12,
      "outputs": [
        {
          "output_type": "execute_result",
          "data": {
            "text/plain": [
              "                regio1  serviceCharge                     heatingType  \\\n",
              "0  Nordrhein_Westfalen         245.00                 central_heating   \n",
              "1      Rheinland_Pfalz         134.00  self_contained_central_heating   \n",
              "2              Sachsen         255.00                   floor_heating   \n",
              "3              Sachsen          58.15                district_heating   \n",
              "4               Bremen         138.00  self_contained_central_heating   \n",
              "\n",
              "  telekomTvOffer  telekomHybridUploadSpeed newlyConst balcony  picturecount  \\\n",
              "0  ONE_YEAR_FREE                       NaN      False   False           6.0   \n",
              "1  ONE_YEAR_FREE                       NaN      False    True           8.0   \n",
              "2  ONE_YEAR_FREE                      10.0       True    True           8.0   \n",
              "3  ONE_YEAR_FREE                       NaN      False    True           9.0   \n",
              "4            NaN                       NaN      False    True          19.0   \n",
              "\n",
              "   pricetrend  telekomUploadSpeed  ...               regio2  \\\n",
              "0        4.62                10.0  ...             Dortmund   \n",
              "1        3.47                10.0  ...    Rhein_Pfalz_Kreis   \n",
              "2        2.72                 2.4  ...              Dresden   \n",
              "3        1.53                40.0  ...  Mittelsachsen_Kreis   \n",
              "4        2.46                 NaN  ...               Bremen   \n",
              "\n",
              "                       regio3  \\\n",
              "0                     Schüren   \n",
              "1              Böhl_Iggelheim   \n",
              "2  Äußere_Neustadt_Antonstadt   \n",
              "3                    Freiberg   \n",
              "4           Neu_Schwachhausen   \n",
              "\n",
              "                                         description  \\\n",
              "0  Die ebenerdig zu erreichende Erdgeschosswohnun...   \n",
              "1  Alles neu macht der Mai – so kann es auch für ...   \n",
              "2  Der Neubau entsteht im Herzen der Dresdner Neu...   \n",
              "3  Abseits von Lärm und Abgasen in Ihre neue Wohn...   \n",
              "4  Es handelt sich hier um ein saniertes Mehrfami...   \n",
              "\n",
              "                                          facilities heatingCosts  \\\n",
              "0  Die Wohnung ist mit Laminat ausgelegt. Das Bad...          NaN   \n",
              "1                                                NaN          NaN   \n",
              "2  * 9 m² Balkon\\n* Bad mit bodengleicher Dusche,...          NaN   \n",
              "3                                                NaN        87.23   \n",
              "4  Diese Wohnung wurde neu saniert und ist wie fo...          NaN   \n",
              "\n",
              "  energyEfficiencyClass lastRefurbish electricityBasePrice  \\\n",
              "0                   NaN           NaN                  NaN   \n",
              "1                   NaN        2019.0                  NaN   \n",
              "2                   NaN           NaN                  NaN   \n",
              "3                   NaN           NaN                  NaN   \n",
              "4                   NaN           NaN                  NaN   \n",
              "\n",
              "   electricityKwhPrice   date  \n",
              "0                  NaN  May19  \n",
              "1                  NaN  May19  \n",
              "2                  NaN  Oct19  \n",
              "3                  NaN  May19  \n",
              "4                  NaN  Feb20  \n",
              "\n",
              "[5 rows x 49 columns]"
            ],
            "text/html": [
              "\n",
              "  <div id=\"df-68b5379f-0e9e-488b-b812-14ad9eafb803\">\n",
              "    <div class=\"colab-df-container\">\n",
              "      <div>\n",
              "<style scoped>\n",
              "    .dataframe tbody tr th:only-of-type {\n",
              "        vertical-align: middle;\n",
              "    }\n",
              "\n",
              "    .dataframe tbody tr th {\n",
              "        vertical-align: top;\n",
              "    }\n",
              "\n",
              "    .dataframe thead th {\n",
              "        text-align: right;\n",
              "    }\n",
              "</style>\n",
              "<table border=\"1\" class=\"dataframe\">\n",
              "  <thead>\n",
              "    <tr style=\"text-align: right;\">\n",
              "      <th></th>\n",
              "      <th>regio1</th>\n",
              "      <th>serviceCharge</th>\n",
              "      <th>heatingType</th>\n",
              "      <th>telekomTvOffer</th>\n",
              "      <th>telekomHybridUploadSpeed</th>\n",
              "      <th>newlyConst</th>\n",
              "      <th>balcony</th>\n",
              "      <th>picturecount</th>\n",
              "      <th>pricetrend</th>\n",
              "      <th>telekomUploadSpeed</th>\n",
              "      <th>...</th>\n",
              "      <th>regio2</th>\n",
              "      <th>regio3</th>\n",
              "      <th>description</th>\n",
              "      <th>facilities</th>\n",
              "      <th>heatingCosts</th>\n",
              "      <th>energyEfficiencyClass</th>\n",
              "      <th>lastRefurbish</th>\n",
              "      <th>electricityBasePrice</th>\n",
              "      <th>electricityKwhPrice</th>\n",
              "      <th>date</th>\n",
              "    </tr>\n",
              "  </thead>\n",
              "  <tbody>\n",
              "    <tr>\n",
              "      <th>0</th>\n",
              "      <td>Nordrhein_Westfalen</td>\n",
              "      <td>245.00</td>\n",
              "      <td>central_heating</td>\n",
              "      <td>ONE_YEAR_FREE</td>\n",
              "      <td>NaN</td>\n",
              "      <td>False</td>\n",
              "      <td>False</td>\n",
              "      <td>6.0</td>\n",
              "      <td>4.62</td>\n",
              "      <td>10.0</td>\n",
              "      <td>...</td>\n",
              "      <td>Dortmund</td>\n",
              "      <td>Schüren</td>\n",
              "      <td>Die ebenerdig zu erreichende Erdgeschosswohnun...</td>\n",
              "      <td>Die Wohnung ist mit Laminat ausgelegt. Das Bad...</td>\n",
              "      <td>NaN</td>\n",
              "      <td>NaN</td>\n",
              "      <td>NaN</td>\n",
              "      <td>NaN</td>\n",
              "      <td>NaN</td>\n",
              "      <td>May19</td>\n",
              "    </tr>\n",
              "    <tr>\n",
              "      <th>1</th>\n",
              "      <td>Rheinland_Pfalz</td>\n",
              "      <td>134.00</td>\n",
              "      <td>self_contained_central_heating</td>\n",
              "      <td>ONE_YEAR_FREE</td>\n",
              "      <td>NaN</td>\n",
              "      <td>False</td>\n",
              "      <td>True</td>\n",
              "      <td>8.0</td>\n",
              "      <td>3.47</td>\n",
              "      <td>10.0</td>\n",
              "      <td>...</td>\n",
              "      <td>Rhein_Pfalz_Kreis</td>\n",
              "      <td>Böhl_Iggelheim</td>\n",
              "      <td>Alles neu macht der Mai – so kann es auch für ...</td>\n",
              "      <td>NaN</td>\n",
              "      <td>NaN</td>\n",
              "      <td>NaN</td>\n",
              "      <td>2019.0</td>\n",
              "      <td>NaN</td>\n",
              "      <td>NaN</td>\n",
              "      <td>May19</td>\n",
              "    </tr>\n",
              "    <tr>\n",
              "      <th>2</th>\n",
              "      <td>Sachsen</td>\n",
              "      <td>255.00</td>\n",
              "      <td>floor_heating</td>\n",
              "      <td>ONE_YEAR_FREE</td>\n",
              "      <td>10.0</td>\n",
              "      <td>True</td>\n",
              "      <td>True</td>\n",
              "      <td>8.0</td>\n",
              "      <td>2.72</td>\n",
              "      <td>2.4</td>\n",
              "      <td>...</td>\n",
              "      <td>Dresden</td>\n",
              "      <td>Äußere_Neustadt_Antonstadt</td>\n",
              "      <td>Der Neubau entsteht im Herzen der Dresdner Neu...</td>\n",
              "      <td>* 9 m² Balkon\\n* Bad mit bodengleicher Dusche,...</td>\n",
              "      <td>NaN</td>\n",
              "      <td>NaN</td>\n",
              "      <td>NaN</td>\n",
              "      <td>NaN</td>\n",
              "      <td>NaN</td>\n",
              "      <td>Oct19</td>\n",
              "    </tr>\n",
              "    <tr>\n",
              "      <th>3</th>\n",
              "      <td>Sachsen</td>\n",
              "      <td>58.15</td>\n",
              "      <td>district_heating</td>\n",
              "      <td>ONE_YEAR_FREE</td>\n",
              "      <td>NaN</td>\n",
              "      <td>False</td>\n",
              "      <td>True</td>\n",
              "      <td>9.0</td>\n",
              "      <td>1.53</td>\n",
              "      <td>40.0</td>\n",
              "      <td>...</td>\n",
              "      <td>Mittelsachsen_Kreis</td>\n",
              "      <td>Freiberg</td>\n",
              "      <td>Abseits von Lärm und Abgasen in Ihre neue Wohn...</td>\n",
              "      <td>NaN</td>\n",
              "      <td>87.23</td>\n",
              "      <td>NaN</td>\n",
              "      <td>NaN</td>\n",
              "      <td>NaN</td>\n",
              "      <td>NaN</td>\n",
              "      <td>May19</td>\n",
              "    </tr>\n",
              "    <tr>\n",
              "      <th>4</th>\n",
              "      <td>Bremen</td>\n",
              "      <td>138.00</td>\n",
              "      <td>self_contained_central_heating</td>\n",
              "      <td>NaN</td>\n",
              "      <td>NaN</td>\n",
              "      <td>False</td>\n",
              "      <td>True</td>\n",
              "      <td>19.0</td>\n",
              "      <td>2.46</td>\n",
              "      <td>NaN</td>\n",
              "      <td>...</td>\n",
              "      <td>Bremen</td>\n",
              "      <td>Neu_Schwachhausen</td>\n",
              "      <td>Es handelt sich hier um ein saniertes Mehrfami...</td>\n",
              "      <td>Diese Wohnung wurde neu saniert und ist wie fo...</td>\n",
              "      <td>NaN</td>\n",
              "      <td>NaN</td>\n",
              "      <td>NaN</td>\n",
              "      <td>NaN</td>\n",
              "      <td>NaN</td>\n",
              "      <td>Feb20</td>\n",
              "    </tr>\n",
              "  </tbody>\n",
              "</table>\n",
              "<p>5 rows × 49 columns</p>\n",
              "</div>\n",
              "      <button class=\"colab-df-convert\" onclick=\"convertToInteractive('df-68b5379f-0e9e-488b-b812-14ad9eafb803')\"\n",
              "              title=\"Convert this dataframe to an interactive table.\"\n",
              "              style=\"display:none;\">\n",
              "        \n",
              "  <svg xmlns=\"http://www.w3.org/2000/svg\" height=\"24px\"viewBox=\"0 0 24 24\"\n",
              "       width=\"24px\">\n",
              "    <path d=\"M0 0h24v24H0V0z\" fill=\"none\"/>\n",
              "    <path d=\"M18.56 5.44l.94 2.06.94-2.06 2.06-.94-2.06-.94-.94-2.06-.94 2.06-2.06.94zm-11 1L8.5 8.5l.94-2.06 2.06-.94-2.06-.94L8.5 2.5l-.94 2.06-2.06.94zm10 10l.94 2.06.94-2.06 2.06-.94-2.06-.94-.94-2.06-.94 2.06-2.06.94z\"/><path d=\"M17.41 7.96l-1.37-1.37c-.4-.4-.92-.59-1.43-.59-.52 0-1.04.2-1.43.59L10.3 9.45l-7.72 7.72c-.78.78-.78 2.05 0 2.83L4 21.41c.39.39.9.59 1.41.59.51 0 1.02-.2 1.41-.59l7.78-7.78 2.81-2.81c.8-.78.8-2.07 0-2.86zM5.41 20L4 18.59l7.72-7.72 1.47 1.35L5.41 20z\"/>\n",
              "  </svg>\n",
              "      </button>\n",
              "      \n",
              "  <style>\n",
              "    .colab-df-container {\n",
              "      display:flex;\n",
              "      flex-wrap:wrap;\n",
              "      gap: 12px;\n",
              "    }\n",
              "\n",
              "    .colab-df-convert {\n",
              "      background-color: #E8F0FE;\n",
              "      border: none;\n",
              "      border-radius: 50%;\n",
              "      cursor: pointer;\n",
              "      display: none;\n",
              "      fill: #1967D2;\n",
              "      height: 32px;\n",
              "      padding: 0 0 0 0;\n",
              "      width: 32px;\n",
              "    }\n",
              "\n",
              "    .colab-df-convert:hover {\n",
              "      background-color: #E2EBFA;\n",
              "      box-shadow: 0px 1px 2px rgba(60, 64, 67, 0.3), 0px 1px 3px 1px rgba(60, 64, 67, 0.15);\n",
              "      fill: #174EA6;\n",
              "    }\n",
              "\n",
              "    [theme=dark] .colab-df-convert {\n",
              "      background-color: #3B4455;\n",
              "      fill: #D2E3FC;\n",
              "    }\n",
              "\n",
              "    [theme=dark] .colab-df-convert:hover {\n",
              "      background-color: #434B5C;\n",
              "      box-shadow: 0px 1px 3px 1px rgba(0, 0, 0, 0.15);\n",
              "      filter: drop-shadow(0px 1px 2px rgba(0, 0, 0, 0.3));\n",
              "      fill: #FFFFFF;\n",
              "    }\n",
              "  </style>\n",
              "\n",
              "      <script>\n",
              "        const buttonEl =\n",
              "          document.querySelector('#df-68b5379f-0e9e-488b-b812-14ad9eafb803 button.colab-df-convert');\n",
              "        buttonEl.style.display =\n",
              "          google.colab.kernel.accessAllowed ? 'block' : 'none';\n",
              "\n",
              "        async function convertToInteractive(key) {\n",
              "          const element = document.querySelector('#df-68b5379f-0e9e-488b-b812-14ad9eafb803');\n",
              "          const dataTable =\n",
              "            await google.colab.kernel.invokeFunction('convertToInteractive',\n",
              "                                                     [key], {});\n",
              "          if (!dataTable) return;\n",
              "\n",
              "          const docLinkHtml = 'Like what you see? Visit the ' +\n",
              "            '<a target=\"_blank\" href=https://colab.research.google.com/notebooks/data_table.ipynb>data table notebook</a>'\n",
              "            + ' to learn more about interactive tables.';\n",
              "          element.innerHTML = '';\n",
              "          dataTable['output_type'] = 'display_data';\n",
              "          await google.colab.output.renderOutput(dataTable, element);\n",
              "          const docLink = document.createElement('div');\n",
              "          docLink.innerHTML = docLinkHtml;\n",
              "          element.appendChild(docLink);\n",
              "        }\n",
              "      </script>\n",
              "    </div>\n",
              "  </div>\n",
              "  "
            ]
          },
          "metadata": {},
          "execution_count": 12
        }
      ]
    },
    {
      "cell_type": "code",
      "execution_count": 13,
      "metadata": {
        "colab": {
          "base_uri": "https://localhost:8080/",
          "height": 394
        },
        "id": "Gz-jmbp2rdPP",
        "outputId": "d8f804e8-8b26-4e2d-f6b8-afe97dcfd42d"
      },
      "outputs": [
        {
          "output_type": "execute_result",
          "data": {
            "text/plain": [
              "       serviceCharge  telekomHybridUploadSpeed   picturecount     pricetrend  \\\n",
              "count  260476.000000                   44759.0  267350.000000  265528.000000   \n",
              "mean      151.227205                      10.0       9.791408       3.388936   \n",
              "std       309.093976                       0.0       6.405894       1.965041   \n",
              "min         0.000000                      10.0       0.000000     -12.330000   \n",
              "25%        95.000000                      10.0       6.000000       2.000000   \n",
              "50%       135.000000                      10.0       9.000000       3.390000   \n",
              "75%       190.000000                      10.0      13.000000       4.570000   \n",
              "max    146118.000000                      10.0     121.000000      14.920000   \n",
              "\n",
              "       telekomUploadSpeed     totalRent  yearConstructed       scoutId  \\\n",
              "count       234156.000000  2.270420e+05    210610.000000  2.688500e+05   \n",
              "mean            28.804526  1.506015e+03      1966.397868  1.069697e+08   \n",
              "std             16.336632  3.436491e+04        46.984344  1.250093e+07   \n",
              "min              1.000000  0.000000e+00      1000.000000  2.887174e+07   \n",
              "25%             10.000000  4.700000e+02      1950.000000  1.066910e+08   \n",
              "50%             40.000000  6.500000e+02      1972.000000  1.111584e+08   \n",
              "75%             40.000000  9.941675e+02      1996.000000  1.137688e+08   \n",
              "max            100.000000  1.575154e+07      2090.000000  1.157117e+08   \n",
              "\n",
              "       noParkSpaces  yearConstructedRange  ...        noRooms    thermalChar  \\\n",
              "count  92505.000000         210610.000000  ...  268850.000000  162344.000000   \n",
              "mean       1.328836              3.714396  ...       2.641261     114.749533   \n",
              "std        8.385641              2.738146  ...       2.633440      61.653663   \n",
              "min        0.000000              1.000000  ...       1.000000       0.100000   \n",
              "25%        1.000000              1.000000  ...       2.000000      79.000000   \n",
              "50%        1.000000              3.000000  ...       3.000000     107.000000   \n",
              "75%        1.000000              5.000000  ...       3.000000     140.300000   \n",
              "max     2241.000000              9.000000  ...     999.990000    1996.000000   \n",
              "\n",
              "               floor  numberOfFloors   noRoomsRange  livingSpaceRange  \\\n",
              "count  217541.000000   171118.000000  268850.000000     268850.000000   \n",
              "mean        2.122405        3.572319       2.571542          3.070790   \n",
              "std         3.634934        6.375496       0.937594          1.407127   \n",
              "min        -1.000000        0.000000       1.000000          1.000000   \n",
              "25%         1.000000        2.000000       2.000000          2.000000   \n",
              "50%         2.000000        3.000000       3.000000          3.000000   \n",
              "75%         3.000000        4.000000       3.000000          4.000000   \n",
              "max       999.000000      999.000000       5.000000          7.000000   \n",
              "\n",
              "       heatingCosts  lastRefurbish  electricityBasePrice  electricityKwhPrice  \n",
              "count  85040.000000   80254.000000          46598.000000         46598.000000  \n",
              "mean      77.007268    2013.903868             89.108998             0.199781  \n",
              "std      148.109332      10.973655              5.402656             0.009670  \n",
              "min        0.000000    1015.000000             71.430000             0.170500  \n",
              "25%       54.000000    2012.000000             90.760000             0.191500  \n",
              "50%       70.000000    2017.000000             90.760000             0.198500  \n",
              "75%       90.000000    2019.000000             90.760000             0.205500  \n",
              "max    12613.000000    2919.000000             90.760000             0.227600  \n",
              "\n",
              "[8 rows x 24 columns]"
            ],
            "text/html": [
              "\n",
              "  <div id=\"df-299e602c-2f98-480e-aa2c-5e4f4e6a1906\">\n",
              "    <div class=\"colab-df-container\">\n",
              "      <div>\n",
              "<style scoped>\n",
              "    .dataframe tbody tr th:only-of-type {\n",
              "        vertical-align: middle;\n",
              "    }\n",
              "\n",
              "    .dataframe tbody tr th {\n",
              "        vertical-align: top;\n",
              "    }\n",
              "\n",
              "    .dataframe thead th {\n",
              "        text-align: right;\n",
              "    }\n",
              "</style>\n",
              "<table border=\"1\" class=\"dataframe\">\n",
              "  <thead>\n",
              "    <tr style=\"text-align: right;\">\n",
              "      <th></th>\n",
              "      <th>serviceCharge</th>\n",
              "      <th>telekomHybridUploadSpeed</th>\n",
              "      <th>picturecount</th>\n",
              "      <th>pricetrend</th>\n",
              "      <th>telekomUploadSpeed</th>\n",
              "      <th>totalRent</th>\n",
              "      <th>yearConstructed</th>\n",
              "      <th>scoutId</th>\n",
              "      <th>noParkSpaces</th>\n",
              "      <th>yearConstructedRange</th>\n",
              "      <th>...</th>\n",
              "      <th>noRooms</th>\n",
              "      <th>thermalChar</th>\n",
              "      <th>floor</th>\n",
              "      <th>numberOfFloors</th>\n",
              "      <th>noRoomsRange</th>\n",
              "      <th>livingSpaceRange</th>\n",
              "      <th>heatingCosts</th>\n",
              "      <th>lastRefurbish</th>\n",
              "      <th>electricityBasePrice</th>\n",
              "      <th>electricityKwhPrice</th>\n",
              "    </tr>\n",
              "  </thead>\n",
              "  <tbody>\n",
              "    <tr>\n",
              "      <th>count</th>\n",
              "      <td>260476.000000</td>\n",
              "      <td>44759.0</td>\n",
              "      <td>267350.000000</td>\n",
              "      <td>265528.000000</td>\n",
              "      <td>234156.000000</td>\n",
              "      <td>2.270420e+05</td>\n",
              "      <td>210610.000000</td>\n",
              "      <td>2.688500e+05</td>\n",
              "      <td>92505.000000</td>\n",
              "      <td>210610.000000</td>\n",
              "      <td>...</td>\n",
              "      <td>268850.000000</td>\n",
              "      <td>162344.000000</td>\n",
              "      <td>217541.000000</td>\n",
              "      <td>171118.000000</td>\n",
              "      <td>268850.000000</td>\n",
              "      <td>268850.000000</td>\n",
              "      <td>85040.000000</td>\n",
              "      <td>80254.000000</td>\n",
              "      <td>46598.000000</td>\n",
              "      <td>46598.000000</td>\n",
              "    </tr>\n",
              "    <tr>\n",
              "      <th>mean</th>\n",
              "      <td>151.227205</td>\n",
              "      <td>10.0</td>\n",
              "      <td>9.791408</td>\n",
              "      <td>3.388936</td>\n",
              "      <td>28.804526</td>\n",
              "      <td>1.506015e+03</td>\n",
              "      <td>1966.397868</td>\n",
              "      <td>1.069697e+08</td>\n",
              "      <td>1.328836</td>\n",
              "      <td>3.714396</td>\n",
              "      <td>...</td>\n",
              "      <td>2.641261</td>\n",
              "      <td>114.749533</td>\n",
              "      <td>2.122405</td>\n",
              "      <td>3.572319</td>\n",
              "      <td>2.571542</td>\n",
              "      <td>3.070790</td>\n",
              "      <td>77.007268</td>\n",
              "      <td>2013.903868</td>\n",
              "      <td>89.108998</td>\n",
              "      <td>0.199781</td>\n",
              "    </tr>\n",
              "    <tr>\n",
              "      <th>std</th>\n",
              "      <td>309.093976</td>\n",
              "      <td>0.0</td>\n",
              "      <td>6.405894</td>\n",
              "      <td>1.965041</td>\n",
              "      <td>16.336632</td>\n",
              "      <td>3.436491e+04</td>\n",
              "      <td>46.984344</td>\n",
              "      <td>1.250093e+07</td>\n",
              "      <td>8.385641</td>\n",
              "      <td>2.738146</td>\n",
              "      <td>...</td>\n",
              "      <td>2.633440</td>\n",
              "      <td>61.653663</td>\n",
              "      <td>3.634934</td>\n",
              "      <td>6.375496</td>\n",
              "      <td>0.937594</td>\n",
              "      <td>1.407127</td>\n",
              "      <td>148.109332</td>\n",
              "      <td>10.973655</td>\n",
              "      <td>5.402656</td>\n",
              "      <td>0.009670</td>\n",
              "    </tr>\n",
              "    <tr>\n",
              "      <th>min</th>\n",
              "      <td>0.000000</td>\n",
              "      <td>10.0</td>\n",
              "      <td>0.000000</td>\n",
              "      <td>-12.330000</td>\n",
              "      <td>1.000000</td>\n",
              "      <td>0.000000e+00</td>\n",
              "      <td>1000.000000</td>\n",
              "      <td>2.887174e+07</td>\n",
              "      <td>0.000000</td>\n",
              "      <td>1.000000</td>\n",
              "      <td>...</td>\n",
              "      <td>1.000000</td>\n",
              "      <td>0.100000</td>\n",
              "      <td>-1.000000</td>\n",
              "      <td>0.000000</td>\n",
              "      <td>1.000000</td>\n",
              "      <td>1.000000</td>\n",
              "      <td>0.000000</td>\n",
              "      <td>1015.000000</td>\n",
              "      <td>71.430000</td>\n",
              "      <td>0.170500</td>\n",
              "    </tr>\n",
              "    <tr>\n",
              "      <th>25%</th>\n",
              "      <td>95.000000</td>\n",
              "      <td>10.0</td>\n",
              "      <td>6.000000</td>\n",
              "      <td>2.000000</td>\n",
              "      <td>10.000000</td>\n",
              "      <td>4.700000e+02</td>\n",
              "      <td>1950.000000</td>\n",
              "      <td>1.066910e+08</td>\n",
              "      <td>1.000000</td>\n",
              "      <td>1.000000</td>\n",
              "      <td>...</td>\n",
              "      <td>2.000000</td>\n",
              "      <td>79.000000</td>\n",
              "      <td>1.000000</td>\n",
              "      <td>2.000000</td>\n",
              "      <td>2.000000</td>\n",
              "      <td>2.000000</td>\n",
              "      <td>54.000000</td>\n",
              "      <td>2012.000000</td>\n",
              "      <td>90.760000</td>\n",
              "      <td>0.191500</td>\n",
              "    </tr>\n",
              "    <tr>\n",
              "      <th>50%</th>\n",
              "      <td>135.000000</td>\n",
              "      <td>10.0</td>\n",
              "      <td>9.000000</td>\n",
              "      <td>3.390000</td>\n",
              "      <td>40.000000</td>\n",
              "      <td>6.500000e+02</td>\n",
              "      <td>1972.000000</td>\n",
              "      <td>1.111584e+08</td>\n",
              "      <td>1.000000</td>\n",
              "      <td>3.000000</td>\n",
              "      <td>...</td>\n",
              "      <td>3.000000</td>\n",
              "      <td>107.000000</td>\n",
              "      <td>2.000000</td>\n",
              "      <td>3.000000</td>\n",
              "      <td>3.000000</td>\n",
              "      <td>3.000000</td>\n",
              "      <td>70.000000</td>\n",
              "      <td>2017.000000</td>\n",
              "      <td>90.760000</td>\n",
              "      <td>0.198500</td>\n",
              "    </tr>\n",
              "    <tr>\n",
              "      <th>75%</th>\n",
              "      <td>190.000000</td>\n",
              "      <td>10.0</td>\n",
              "      <td>13.000000</td>\n",
              "      <td>4.570000</td>\n",
              "      <td>40.000000</td>\n",
              "      <td>9.941675e+02</td>\n",
              "      <td>1996.000000</td>\n",
              "      <td>1.137688e+08</td>\n",
              "      <td>1.000000</td>\n",
              "      <td>5.000000</td>\n",
              "      <td>...</td>\n",
              "      <td>3.000000</td>\n",
              "      <td>140.300000</td>\n",
              "      <td>3.000000</td>\n",
              "      <td>4.000000</td>\n",
              "      <td>3.000000</td>\n",
              "      <td>4.000000</td>\n",
              "      <td>90.000000</td>\n",
              "      <td>2019.000000</td>\n",
              "      <td>90.760000</td>\n",
              "      <td>0.205500</td>\n",
              "    </tr>\n",
              "    <tr>\n",
              "      <th>max</th>\n",
              "      <td>146118.000000</td>\n",
              "      <td>10.0</td>\n",
              "      <td>121.000000</td>\n",
              "      <td>14.920000</td>\n",
              "      <td>100.000000</td>\n",
              "      <td>1.575154e+07</td>\n",
              "      <td>2090.000000</td>\n",
              "      <td>1.157117e+08</td>\n",
              "      <td>2241.000000</td>\n",
              "      <td>9.000000</td>\n",
              "      <td>...</td>\n",
              "      <td>999.990000</td>\n",
              "      <td>1996.000000</td>\n",
              "      <td>999.000000</td>\n",
              "      <td>999.000000</td>\n",
              "      <td>5.000000</td>\n",
              "      <td>7.000000</td>\n",
              "      <td>12613.000000</td>\n",
              "      <td>2919.000000</td>\n",
              "      <td>90.760000</td>\n",
              "      <td>0.227600</td>\n",
              "    </tr>\n",
              "  </tbody>\n",
              "</table>\n",
              "<p>8 rows × 24 columns</p>\n",
              "</div>\n",
              "      <button class=\"colab-df-convert\" onclick=\"convertToInteractive('df-299e602c-2f98-480e-aa2c-5e4f4e6a1906')\"\n",
              "              title=\"Convert this dataframe to an interactive table.\"\n",
              "              style=\"display:none;\">\n",
              "        \n",
              "  <svg xmlns=\"http://www.w3.org/2000/svg\" height=\"24px\"viewBox=\"0 0 24 24\"\n",
              "       width=\"24px\">\n",
              "    <path d=\"M0 0h24v24H0V0z\" fill=\"none\"/>\n",
              "    <path d=\"M18.56 5.44l.94 2.06.94-2.06 2.06-.94-2.06-.94-.94-2.06-.94 2.06-2.06.94zm-11 1L8.5 8.5l.94-2.06 2.06-.94-2.06-.94L8.5 2.5l-.94 2.06-2.06.94zm10 10l.94 2.06.94-2.06 2.06-.94-2.06-.94-.94-2.06-.94 2.06-2.06.94z\"/><path d=\"M17.41 7.96l-1.37-1.37c-.4-.4-.92-.59-1.43-.59-.52 0-1.04.2-1.43.59L10.3 9.45l-7.72 7.72c-.78.78-.78 2.05 0 2.83L4 21.41c.39.39.9.59 1.41.59.51 0 1.02-.2 1.41-.59l7.78-7.78 2.81-2.81c.8-.78.8-2.07 0-2.86zM5.41 20L4 18.59l7.72-7.72 1.47 1.35L5.41 20z\"/>\n",
              "  </svg>\n",
              "      </button>\n",
              "      \n",
              "  <style>\n",
              "    .colab-df-container {\n",
              "      display:flex;\n",
              "      flex-wrap:wrap;\n",
              "      gap: 12px;\n",
              "    }\n",
              "\n",
              "    .colab-df-convert {\n",
              "      background-color: #E8F0FE;\n",
              "      border: none;\n",
              "      border-radius: 50%;\n",
              "      cursor: pointer;\n",
              "      display: none;\n",
              "      fill: #1967D2;\n",
              "      height: 32px;\n",
              "      padding: 0 0 0 0;\n",
              "      width: 32px;\n",
              "    }\n",
              "\n",
              "    .colab-df-convert:hover {\n",
              "      background-color: #E2EBFA;\n",
              "      box-shadow: 0px 1px 2px rgba(60, 64, 67, 0.3), 0px 1px 3px 1px rgba(60, 64, 67, 0.15);\n",
              "      fill: #174EA6;\n",
              "    }\n",
              "\n",
              "    [theme=dark] .colab-df-convert {\n",
              "      background-color: #3B4455;\n",
              "      fill: #D2E3FC;\n",
              "    }\n",
              "\n",
              "    [theme=dark] .colab-df-convert:hover {\n",
              "      background-color: #434B5C;\n",
              "      box-shadow: 0px 1px 3px 1px rgba(0, 0, 0, 0.15);\n",
              "      filter: drop-shadow(0px 1px 2px rgba(0, 0, 0, 0.3));\n",
              "      fill: #FFFFFF;\n",
              "    }\n",
              "  </style>\n",
              "\n",
              "      <script>\n",
              "        const buttonEl =\n",
              "          document.querySelector('#df-299e602c-2f98-480e-aa2c-5e4f4e6a1906 button.colab-df-convert');\n",
              "        buttonEl.style.display =\n",
              "          google.colab.kernel.accessAllowed ? 'block' : 'none';\n",
              "\n",
              "        async function convertToInteractive(key) {\n",
              "          const element = document.querySelector('#df-299e602c-2f98-480e-aa2c-5e4f4e6a1906');\n",
              "          const dataTable =\n",
              "            await google.colab.kernel.invokeFunction('convertToInteractive',\n",
              "                                                     [key], {});\n",
              "          if (!dataTable) return;\n",
              "\n",
              "          const docLinkHtml = 'Like what you see? Visit the ' +\n",
              "            '<a target=\"_blank\" href=https://colab.research.google.com/notebooks/data_table.ipynb>data table notebook</a>'\n",
              "            + ' to learn more about interactive tables.';\n",
              "          element.innerHTML = '';\n",
              "          dataTable['output_type'] = 'display_data';\n",
              "          await google.colab.output.renderOutput(dataTable, element);\n",
              "          const docLink = document.createElement('div');\n",
              "          docLink.innerHTML = docLinkHtml;\n",
              "          element.appendChild(docLink);\n",
              "        }\n",
              "      </script>\n",
              "    </div>\n",
              "  </div>\n",
              "  "
            ]
          },
          "metadata": {},
          "execution_count": 13
        }
      ],
      "source": [
        "data.describe()"
      ]
    },
    {
      "cell_type": "code",
      "execution_count": 14,
      "metadata": {
        "colab": {
          "base_uri": "https://localhost:8080/",
          "height": 303
        },
        "id": "fPTScvlVup-P",
        "outputId": "2189bdb0-852e-4dac-de47-24a2be9822c1"
      },
      "outputs": [
        {
          "output_type": "execute_result",
          "data": {
            "text/plain": [
              "                     regio1      heatingType telekomTvOffer newlyConst  \\\n",
              "count                267350           222731         234894     267350   \n",
              "unique                   16               13              3          2   \n",
              "top     Nordrhein_Westfalen  central_heating  ONE_YEAR_FREE      False   \n",
              "freq                  62492           128278         226335     246312   \n",
              "\n",
              "       balcony firingTypes hasKitchen              geo_bln  cellar  \\\n",
              "count   267350      210700     267350               267350  267350   \n",
              "unique       2         132          2                   16       2   \n",
              "top       True         gas      False  Nordrhein_Westfalen    True   \n",
              "freq    164807      110277     175775                62492  171255   \n",
              "\n",
              "       houseNumber  ...          street  streetPlain    lift typeOfFlat  \\\n",
              "count       196714  ...          267350       196719  267350     230919   \n",
              "unique        5492  ...           52207        54315       2         10   \n",
              "top              1  ...  no_information  Hauptstraße   False  apartment   \n",
              "freq          7125  ...           70631          905  204374     130759   \n",
              "\n",
              "         regio2      regio3  \\\n",
              "count    268850      268850   \n",
              "unique      419        8684   \n",
              "top     Leipzig  Innenstadt   \n",
              "freq      13723        4751   \n",
              "\n",
              "                                              description facilities  \\\n",
              "count                                              247708     214701   \n",
              "unique                                             211490     188513   \n",
              "top     + MEIN GUENTZ - Quartier der Generationen\\r\\n+...    Laminat   \n",
              "freq                                                  216        207   \n",
              "\n",
              "       energyEfficiencyClass    date  \n",
              "count                  77352  268850  \n",
              "unique                    10       4  \n",
              "top                        C   Feb20  \n",
              "freq                   14538   79276  \n",
              "\n",
              "[4 rows x 24 columns]"
            ],
            "text/html": [
              "\n",
              "  <div id=\"df-7f865b8c-827c-41ca-874e-cfad70016dc2\">\n",
              "    <div class=\"colab-df-container\">\n",
              "      <div>\n",
              "<style scoped>\n",
              "    .dataframe tbody tr th:only-of-type {\n",
              "        vertical-align: middle;\n",
              "    }\n",
              "\n",
              "    .dataframe tbody tr th {\n",
              "        vertical-align: top;\n",
              "    }\n",
              "\n",
              "    .dataframe thead th {\n",
              "        text-align: right;\n",
              "    }\n",
              "</style>\n",
              "<table border=\"1\" class=\"dataframe\">\n",
              "  <thead>\n",
              "    <tr style=\"text-align: right;\">\n",
              "      <th></th>\n",
              "      <th>regio1</th>\n",
              "      <th>heatingType</th>\n",
              "      <th>telekomTvOffer</th>\n",
              "      <th>newlyConst</th>\n",
              "      <th>balcony</th>\n",
              "      <th>firingTypes</th>\n",
              "      <th>hasKitchen</th>\n",
              "      <th>geo_bln</th>\n",
              "      <th>cellar</th>\n",
              "      <th>houseNumber</th>\n",
              "      <th>...</th>\n",
              "      <th>street</th>\n",
              "      <th>streetPlain</th>\n",
              "      <th>lift</th>\n",
              "      <th>typeOfFlat</th>\n",
              "      <th>regio2</th>\n",
              "      <th>regio3</th>\n",
              "      <th>description</th>\n",
              "      <th>facilities</th>\n",
              "      <th>energyEfficiencyClass</th>\n",
              "      <th>date</th>\n",
              "    </tr>\n",
              "  </thead>\n",
              "  <tbody>\n",
              "    <tr>\n",
              "      <th>count</th>\n",
              "      <td>267350</td>\n",
              "      <td>222731</td>\n",
              "      <td>234894</td>\n",
              "      <td>267350</td>\n",
              "      <td>267350</td>\n",
              "      <td>210700</td>\n",
              "      <td>267350</td>\n",
              "      <td>267350</td>\n",
              "      <td>267350</td>\n",
              "      <td>196714</td>\n",
              "      <td>...</td>\n",
              "      <td>267350</td>\n",
              "      <td>196719</td>\n",
              "      <td>267350</td>\n",
              "      <td>230919</td>\n",
              "      <td>268850</td>\n",
              "      <td>268850</td>\n",
              "      <td>247708</td>\n",
              "      <td>214701</td>\n",
              "      <td>77352</td>\n",
              "      <td>268850</td>\n",
              "    </tr>\n",
              "    <tr>\n",
              "      <th>unique</th>\n",
              "      <td>16</td>\n",
              "      <td>13</td>\n",
              "      <td>3</td>\n",
              "      <td>2</td>\n",
              "      <td>2</td>\n",
              "      <td>132</td>\n",
              "      <td>2</td>\n",
              "      <td>16</td>\n",
              "      <td>2</td>\n",
              "      <td>5492</td>\n",
              "      <td>...</td>\n",
              "      <td>52207</td>\n",
              "      <td>54315</td>\n",
              "      <td>2</td>\n",
              "      <td>10</td>\n",
              "      <td>419</td>\n",
              "      <td>8684</td>\n",
              "      <td>211490</td>\n",
              "      <td>188513</td>\n",
              "      <td>10</td>\n",
              "      <td>4</td>\n",
              "    </tr>\n",
              "    <tr>\n",
              "      <th>top</th>\n",
              "      <td>Nordrhein_Westfalen</td>\n",
              "      <td>central_heating</td>\n",
              "      <td>ONE_YEAR_FREE</td>\n",
              "      <td>False</td>\n",
              "      <td>True</td>\n",
              "      <td>gas</td>\n",
              "      <td>False</td>\n",
              "      <td>Nordrhein_Westfalen</td>\n",
              "      <td>True</td>\n",
              "      <td>1</td>\n",
              "      <td>...</td>\n",
              "      <td>no_information</td>\n",
              "      <td>Hauptstraße</td>\n",
              "      <td>False</td>\n",
              "      <td>apartment</td>\n",
              "      <td>Leipzig</td>\n",
              "      <td>Innenstadt</td>\n",
              "      <td>+ MEIN GUENTZ - Quartier der Generationen\\r\\n+...</td>\n",
              "      <td>Laminat</td>\n",
              "      <td>C</td>\n",
              "      <td>Feb20</td>\n",
              "    </tr>\n",
              "    <tr>\n",
              "      <th>freq</th>\n",
              "      <td>62492</td>\n",
              "      <td>128278</td>\n",
              "      <td>226335</td>\n",
              "      <td>246312</td>\n",
              "      <td>164807</td>\n",
              "      <td>110277</td>\n",
              "      <td>175775</td>\n",
              "      <td>62492</td>\n",
              "      <td>171255</td>\n",
              "      <td>7125</td>\n",
              "      <td>...</td>\n",
              "      <td>70631</td>\n",
              "      <td>905</td>\n",
              "      <td>204374</td>\n",
              "      <td>130759</td>\n",
              "      <td>13723</td>\n",
              "      <td>4751</td>\n",
              "      <td>216</td>\n",
              "      <td>207</td>\n",
              "      <td>14538</td>\n",
              "      <td>79276</td>\n",
              "    </tr>\n",
              "  </tbody>\n",
              "</table>\n",
              "<p>4 rows × 24 columns</p>\n",
              "</div>\n",
              "      <button class=\"colab-df-convert\" onclick=\"convertToInteractive('df-7f865b8c-827c-41ca-874e-cfad70016dc2')\"\n",
              "              title=\"Convert this dataframe to an interactive table.\"\n",
              "              style=\"display:none;\">\n",
              "        \n",
              "  <svg xmlns=\"http://www.w3.org/2000/svg\" height=\"24px\"viewBox=\"0 0 24 24\"\n",
              "       width=\"24px\">\n",
              "    <path d=\"M0 0h24v24H0V0z\" fill=\"none\"/>\n",
              "    <path d=\"M18.56 5.44l.94 2.06.94-2.06 2.06-.94-2.06-.94-.94-2.06-.94 2.06-2.06.94zm-11 1L8.5 8.5l.94-2.06 2.06-.94-2.06-.94L8.5 2.5l-.94 2.06-2.06.94zm10 10l.94 2.06.94-2.06 2.06-.94-2.06-.94-.94-2.06-.94 2.06-2.06.94z\"/><path d=\"M17.41 7.96l-1.37-1.37c-.4-.4-.92-.59-1.43-.59-.52 0-1.04.2-1.43.59L10.3 9.45l-7.72 7.72c-.78.78-.78 2.05 0 2.83L4 21.41c.39.39.9.59 1.41.59.51 0 1.02-.2 1.41-.59l7.78-7.78 2.81-2.81c.8-.78.8-2.07 0-2.86zM5.41 20L4 18.59l7.72-7.72 1.47 1.35L5.41 20z\"/>\n",
              "  </svg>\n",
              "      </button>\n",
              "      \n",
              "  <style>\n",
              "    .colab-df-container {\n",
              "      display:flex;\n",
              "      flex-wrap:wrap;\n",
              "      gap: 12px;\n",
              "    }\n",
              "\n",
              "    .colab-df-convert {\n",
              "      background-color: #E8F0FE;\n",
              "      border: none;\n",
              "      border-radius: 50%;\n",
              "      cursor: pointer;\n",
              "      display: none;\n",
              "      fill: #1967D2;\n",
              "      height: 32px;\n",
              "      padding: 0 0 0 0;\n",
              "      width: 32px;\n",
              "    }\n",
              "\n",
              "    .colab-df-convert:hover {\n",
              "      background-color: #E2EBFA;\n",
              "      box-shadow: 0px 1px 2px rgba(60, 64, 67, 0.3), 0px 1px 3px 1px rgba(60, 64, 67, 0.15);\n",
              "      fill: #174EA6;\n",
              "    }\n",
              "\n",
              "    [theme=dark] .colab-df-convert {\n",
              "      background-color: #3B4455;\n",
              "      fill: #D2E3FC;\n",
              "    }\n",
              "\n",
              "    [theme=dark] .colab-df-convert:hover {\n",
              "      background-color: #434B5C;\n",
              "      box-shadow: 0px 1px 3px 1px rgba(0, 0, 0, 0.15);\n",
              "      filter: drop-shadow(0px 1px 2px rgba(0, 0, 0, 0.3));\n",
              "      fill: #FFFFFF;\n",
              "    }\n",
              "  </style>\n",
              "\n",
              "      <script>\n",
              "        const buttonEl =\n",
              "          document.querySelector('#df-7f865b8c-827c-41ca-874e-cfad70016dc2 button.colab-df-convert');\n",
              "        buttonEl.style.display =\n",
              "          google.colab.kernel.accessAllowed ? 'block' : 'none';\n",
              "\n",
              "        async function convertToInteractive(key) {\n",
              "          const element = document.querySelector('#df-7f865b8c-827c-41ca-874e-cfad70016dc2');\n",
              "          const dataTable =\n",
              "            await google.colab.kernel.invokeFunction('convertToInteractive',\n",
              "                                                     [key], {});\n",
              "          if (!dataTable) return;\n",
              "\n",
              "          const docLinkHtml = 'Like what you see? Visit the ' +\n",
              "            '<a target=\"_blank\" href=https://colab.research.google.com/notebooks/data_table.ipynb>data table notebook</a>'\n",
              "            + ' to learn more about interactive tables.';\n",
              "          element.innerHTML = '';\n",
              "          dataTable['output_type'] = 'display_data';\n",
              "          await google.colab.output.renderOutput(dataTable, element);\n",
              "          const docLink = document.createElement('div');\n",
              "          docLink.innerHTML = docLinkHtml;\n",
              "          element.appendChild(docLink);\n",
              "        }\n",
              "      </script>\n",
              "    </div>\n",
              "  </div>\n",
              "  "
            ]
          },
          "metadata": {},
          "execution_count": 14
        }
      ],
      "source": [
        "data.describe(include=\"object\")"
      ]
    },
    {
      "cell_type": "markdown",
      "metadata": {
        "id": "UEKCDAgqoMrG"
      },
      "source": [
        "**Drop features**"
      ]
    },
    {
      "cell_type": "code",
      "execution_count": 15,
      "metadata": {
        "id": "UI70_VH69l9p"
      },
      "outputs": [],
      "source": [
        "data.drop(data[data.livingSpace == 0].index, inplace=True)\n",
        "data.drop(data[data.totalRent == 0].index, inplace=True)\n",
        "data.drop(data[data.baseRent == 0].index, inplace=True)\n",
        "data.drop(data[data.serviceCharge == 0].index, inplace=True)\n",
        "data.drop(data[data.yearConstructed >= 2022].index, inplace=True)"
      ]
    },
    {
      "cell_type": "code",
      "execution_count": 16,
      "metadata": {
        "id": "cQ_JkehLeD26"
      },
      "outputs": [],
      "source": [
        "#too null\n",
        "data.drop(['telekomHybridUploadSpeed', 'noParkSpaces', 'heatingCosts', 'energyEfficiencyClass', 'lastRefurbish', 'electricityBasePrice', 'electricityKwhPrice', 'street', 'condition'], axis=1, inplace = True)\n",
        "#useless\n",
        "data.drop(['regio2', 'regio3', 'noRoomsRange', 'baseRentRange', 'yearConstructedRange', 'livingSpaceRange', 'houseNumber', 'date', 'scoutId', 'geo_plz', 'description', 'facilities', 'interiorQual', 'streetPlain', 'picturecount', 'pricetrend'], axis=1, inplace = True)\n",
        "#duplicate\n",
        "data.drop(['geo_bln', 'geo_krs'], axis=1, inplace = True)"
      ]
    },
    {
      "cell_type": "code",
      "execution_count": 17,
      "metadata": {
        "id": "VOnBUcgutKyP"
      },
      "outputs": [],
      "source": [
        "data = data.dropna(how='any', subset=['totalRent'])"
      ]
    },
    {
      "cell_type": "markdown",
      "metadata": {
        "id": "P62qMHVfoT4n"
      },
      "source": [
        "**Fill String NaN**"
      ]
    },
    {
      "cell_type": "code",
      "execution_count": 18,
      "metadata": {
        "id": "05GDLV11pDQX"
      },
      "outputs": [],
      "source": [
        "data['typeOfFlat'].fillna('NO_INFORMATION', inplace = True)\n",
        "data['telekomTvOffer'].fillna('NO_INFORMATION', inplace = True)\n",
        "data['firingTypes'].fillna('no_information', inplace = True)\n",
        "data['heatingType'].fillna('NO_INFORMATION', inplace = True)"
      ]
    },
    {
      "cell_type": "markdown",
      "metadata": {
        "id": "tGZrUgDXoAAq"
      },
      "source": [
        "**Remove Outliers**"
      ]
    },
    {
      "cell_type": "code",
      "execution_count": 19,
      "metadata": {
        "id": "aciPdLe6xhFr"
      },
      "outputs": [],
      "source": [
        "def find_quartiles(data):\n",
        "    data = sorted(data)\n",
        "    q1, q3 = np.percentile(data,[25,75])\n",
        "    iqr = q3 - q1\n",
        "    lower_bound = q1 - (1.5*iqr)\n",
        "    upper_bound = q3 + (1.5*iqr)\n",
        "    return lower_bound, upper_bound"
      ]
    },
    {
      "cell_type": "code",
      "execution_count": 20,
      "metadata": {
        "id": "FngxqhCanWpa"
      },
      "outputs": [],
      "source": [
        "for col in data.describe().columns:\n",
        "  lowerbound, upperbound = find_quartiles(data[col])\n",
        "  data.drop(data[ (data[col] > upperbound) | (data[col] < lowerbound) ].index , inplace=True)"
      ]
    },
    {
      "cell_type": "markdown",
      "metadata": {
        "id": "MMDtXIHtocy_"
      },
      "source": [
        "**Fill Number NaN**"
      ]
    },
    {
      "cell_type": "code",
      "execution_count": 21,
      "metadata": {
        "id": "en2da39Js52c"
      },
      "outputs": [],
      "source": [
        "data['serviceCharge'].fillna(data['serviceCharge'].mean(), inplace = True)\n",
        "data['yearConstructed'].fillna(data['yearConstructed'].mean(), inplace = True)\n",
        "data['thermalChar'].fillna(data['thermalChar'].mean(), inplace = True)\n",
        "data['telekomUploadSpeed'].fillna(data['telekomUploadSpeed'].mean(), inplace = True)\n",
        "data['baseRent'].fillna(data['baseRent'].mean(), inplace = True)"
      ]
    },
    {
      "cell_type": "code",
      "execution_count": 22,
      "metadata": {
        "id": "TR6KNOPn5Sdg"
      },
      "outputs": [],
      "source": [
        "data['balcony'].replace([False, True], [0,1], inplace = True)\n",
        "data['garden'].replace([False, True], [0,1], inplace = True)\n",
        "data['hasKitchen'].replace([False, True], [0,1], inplace = True)\n",
        "data['cellar'].replace([False, True], [0,1], inplace = True)\n",
        "data['lift'].replace([False, True], [0,1], inplace = True)\n",
        "data['petsAllowed'].replace(['no', 'negotiable', 'yes'] ,[0, 0.5, 1],  inplace = True)\n",
        "data['newlyConst'].replace([False, True], [0,1], inplace = True)"
      ]
    },
    {
      "cell_type": "code",
      "execution_count": 23,
      "metadata": {
        "id": "w2defas9q5QC"
      },
      "outputs": [],
      "source": [
        "data['balcony'].fillna(data['balcony'].mode(), inplace = True)\n",
        "data['garden'].fillna(data['garden'].mode(), inplace = True)\n",
        "data['hasKitchen'].fillna(data['hasKitchen'].mode(), inplace = True)\n",
        "data['cellar'].fillna(data['cellar'].mode(), inplace = True)\n",
        "data['lift'].fillna(data['lift'].mode(), inplace = True)\n",
        "data['petsAllowed'].fillna(data['petsAllowed'].mode()[0], inplace = True)\n",
        "data['newlyConst'].fillna(data['petsAllowed'].mode(), inplace = True)"
      ]
    },
    {
      "cell_type": "code",
      "execution_count": 24,
      "metadata": {
        "id": "u1ing2eVAZQu"
      },
      "outputs": [],
      "source": [
        "data['floor'].fillna(data['floor'].median(), inplace = True)\n",
        "data['numberOfFloors'].fillna(data['numberOfFloors'].median(), inplace = True)"
      ]
    },
    {
      "cell_type": "markdown",
      "metadata": {
        "id": "aLnEALaromtF"
      },
      "source": [
        "**Correct Datatypes**"
      ]
    },
    {
      "cell_type": "code",
      "execution_count": 25,
      "metadata": {
        "id": "afV-3idNX7DC"
      },
      "outputs": [],
      "source": [
        "data['noRooms'] = data['noRooms'].astype('int64')\n",
        "data['numberOfFloors'] = data['numberOfFloors'].astype('int64')\n",
        "data['yearConstructed'] = data['yearConstructed'].astype('int64')\n",
        "data['floor'] = data['floor'].astype('int64')"
      ]
    },
    {
      "cell_type": "code",
      "execution_count": 26,
      "metadata": {
        "id": "ZCbOWZvAt2Bn"
      },
      "outputs": [],
      "source": [
        "data.drop_duplicates(subset=None, keep='first', inplace=True)"
      ]
    },
    {
      "cell_type": "code",
      "execution_count": 27,
      "metadata": {
        "id": "H6yVaT3m1wn-"
      },
      "outputs": [],
      "source": [
        "data.reset_index(drop=True, inplace=True)"
      ]
    },
    {
      "cell_type": "markdown",
      "metadata": {
        "id": "ZcZr8AqWr47U"
      },
      "source": [
        "**Plots**"
      ]
    },
    {
      "cell_type": "code",
      "execution_count": 28,
      "metadata": {
        "id": "qFajnh_U2w34"
      },
      "outputs": [],
      "source": [
        "import matplotlib.pyplot as plt"
      ]
    },
    {
      "cell_type": "code",
      "execution_count": 29,
      "metadata": {
        "colab": {
          "base_uri": "https://localhost:8080/",
          "height": 1000
        },
        "id": "slD1Xu1X2w5d",
        "outputId": "8317f27c-91f8-4cee-d0ff-f39d6d7813d5"
      },
      "outputs": [
        {
          "output_type": "display_data",
          "data": {
            "text/plain": [
              "<Figure size 432x288 with 1 Axes>"
            ],
            "image/png": "[encoded data removed]"
          },
          "metadata": {
            "needs_background": "light"
          }
        },
        {
          "output_type": "display_data",
          "data": {
            "text/plain": [
              "<Figure size 432x288 with 1 Axes>"
            ],
            "image/png": "[encoded data removed]"
          },
          "metadata": {
            "needs_background": "light"
          }
        },
        {
          "output_type": "display_data",
          "data": {
            "text/plain": [
              "<Figure size 432x288 with 1 Axes>"
            ],
            "image/png": "[encoded data removed]"
          },
          "metadata": {
            "needs_background": "light"
          }
        },
        {
          "output_type": "display_data",
          "data": {
            "text/plain": [
              "<Figure size 432x288 with 1 Axes>"
            ],
            "image/png": "[encoded data removed]"
          },
          "metadata": {
            "needs_background": "light"
          }
        },
        {
          "output_type": "display_data",
          "data": {
            "text/plain": [
              "<Figure size 432x288 with 1 Axes>"
            ],
            "image/png": "[encoded data removed]"
          },
          "metadata": {
            "needs_background": "light"
          }
        },
        {
          "output_type": "display_data",
          "data": {
            "text/plain": [
              "<Figure size 432x288 with 1 Axes>"
            ],
            "image/png": "[encoded data removed]"
          },
          "metadata": {
            "needs_background": "light"
          }
        },
        {
          "output_type": "display_data",
          "data": {
            "text/plain": [
              "<Figure size 432x288 with 1 Axes>"
            ],
            "image/png": "[encoded data removed]"
          },
          "metadata": {
            "needs_background": "light"
          }
        },
        {
          "output_type": "display_data",
          "data": {
            "text/plain": [
              "<Figure size 432x288 with 1 Axes>"
            ],
            "image/png": "[encoded data removed]"
          },
          "metadata": {
            "needs_background": "light"
          }
        },
        {
          "output_type": "display_data",
          "data": {
            "text/plain": [
              "<Figure size 432x288 with 1 Axes>"
            ],
            "image/png": "[encoded data removed]"
          },
          "metadata": {
            "needs_background": "light"
          }
        },
        {
          "output_type": "display_data",
          "data": {
            "text/plain": [
              "<Figure size 432x288 with 1 Axes>"
            ],
            "image/png": "[encoded data removed]"
          },
          "metadata": {
            "needs_background": "light"
          }
        },
        {
          "output_type": "display_data",
          "data": {
            "text/plain": [
              "<Figure size 432x288 with 1 Axes>"
            ],
            "image/png": "[encoded data removed]"
          },
          "metadata": {
            "needs_background": "light"
          }
        },
        {
          "output_type": "display_data",
          "data": {
            "text/plain": [
              "<Figure size 432x288 with 1 Axes>"
            ],
            "image/png": "[encoded data removed]"
          },
          "metadata": {
            "needs_background": "light"
          }
        },
        {
          "output_type": "display_data",
          "data": {
            "text/plain": [
              "<Figure size 432x288 with 1 Axes>"
            ],
            "image/png": "[encoded data removed]"
          },
          "metadata": {
            "needs_background": "light"
          }
        },
        {
          "output_type": "display_data",
          "data": {
            "text/plain": [
              "<Figure size 432x288 with 1 Axes>"
            ],
            "image/png": "[encoded data removed]"
          },
          "metadata": {
            "needs_background": "light"
          }
        },
        {
          "output_type": "display_data",
          "data": {
            "text/plain": [
              "<Figure size 432x288 with 1 Axes>"
            ],
            "image/png": "[encoded data removed]"
          },
          "metadata": {
            "needs_background": "light"
          }
        },
        {
          "output_type": "display_data",
          "data": {
            "text/plain": [
              "<Figure size 432x288 with 1 Axes>"
            ],
            "image/png": "[encoded data removed]"
          },
          "metadata": {
            "needs_background": "light"
          }
        },
        {
          "output_type": "display_data",
          "data": {
            "text/plain": [
              "<Figure size 432x288 with 1 Axes>"
            ],
            "image/png": "[encoded data removed]"
          },
          "metadata": {
            "needs_background": "light"
          }
        }
      ],
      "source": [
        "for col in data.describe().columns:\n",
        "  X = data[col]\n",
        "  Y = data['totalRent']\n",
        "  plt.scatter(X,Y)\n",
        "  plt.xlabel(col)\n",
        "  plt.ylabel('totalRent')\n",
        "  plt.show()"
      ]
    },
    {
      "cell_type": "markdown",
      "metadata": {
        "id": "t0uoWBMYz2Dj"
      },
      "source": [
        "**Get Dummies**"
      ]
    },
    {
      "cell_type": "code",
      "execution_count": 30,
      "metadata": {
        "id": "XgZ__1-T_bdo"
      },
      "outputs": [],
      "source": [
        "d2 = pd.get_dummies(data['telekomTvOffer'])\n",
        "d2 = d2.rename(columns={\"NONE\": \"telekomTvOffer_NONE\", \"NO_INFORMATION\": \"telekomTvOffer_NO_INFORMATION\", \"ONE_YEAR_FREE\": \"telekomTvOffer_ONE_YEAR_FREE\", \"ON_DEMAND\": \"telekomTvOffer_ON_DEMAND\"})\n",
        "data = data.join(d2)\n",
        "data.drop([\"telekomTvOffer\"], axis = 1, inplace = True)"
      ]
    },
    {
      "cell_type": "code",
      "execution_count": 31,
      "metadata": {
        "colab": {
          "base_uri": "https://localhost:8080/"
        },
        "id": "-SLFm9b6ktiz",
        "outputId": "d5869b15-dfe6-4f4d-80fc-44173eae2776"
      },
      "outputs": [
        {
          "output_type": "execute_result",
          "data": {
            "text/plain": [
              "gas                                            0.416123\n",
              "no_information                                 0.209023\n",
              "district_heating                               0.185064\n",
              "oil                                            0.066123\n",
              "natural_gas_light                              0.039816\n",
              "                                                 ...   \n",
              "natural_gas_light:wood                         0.000005\n",
              "geothermal:solar_heating:pellet_heating:gas    0.000005\n",
              "gas:oil:electricity                            0.000005\n",
              "gas:heat_supply                                0.000005\n",
              "pellet_heating:district_heating                0.000005\n",
              "Name: firingTypes, Length: 107, dtype: float64"
            ]
          },
          "metadata": {},
          "execution_count": 31
        }
      ],
      "source": [
        "data['firingTypes'].value_counts(normalize=True, sort=True)"
      ]
    },
    {
      "cell_type": "code",
      "execution_count": 32,
      "metadata": {
        "id": "2AlQ-w0GlBNy"
      },
      "outputs": [],
      "source": [
        "data.loc[(data['firingTypes'] != 'gas') & (data['firingTypes'] != 'no_information') & (data['firingTypes'] != 'district_heating'), 'firingTypes'] = 'other'"
      ]
    },
    {
      "cell_type": "code",
      "execution_count": 33,
      "metadata": {
        "id": "B-cDS2MIlIIB"
      },
      "outputs": [],
      "source": [
        "d2 = pd.get_dummies(data['firingTypes'])\n",
        "d2 = d2.rename(columns={\"district_heating\": \"firingTypes_district_heating\", \"gas\": \"firingTypes_gas\", \"no_information\": \"firingTypes_no_information\", \"other\": \"firingTypes_other\"})\n",
        "data = data.join(d2)\n",
        "data.drop([\"firingTypes\"], axis = 1, inplace = True)"
      ]
    },
    {
      "cell_type": "code",
      "execution_count": 34,
      "metadata": {
        "colab": {
          "base_uri": "https://localhost:8080/"
        },
        "id": "G_WylNuslPZt",
        "outputId": "74d1e7ed-ceb1-43dd-c582-4d57f0a6d1b5"
      },
      "outputs": [
        {
          "output_type": "execute_result",
          "data": {
            "text/plain": [
              "Sachsen                   0.240316\n",
              "Nordrhein_Westfalen       0.234348\n",
              "Sachsen_Anhalt            0.084979\n",
              "Bayern                    0.066889\n",
              "Niedersachsen             0.055697\n",
              "Hessen                    0.055258\n",
              "Baden_Württemberg         0.049905\n",
              "Thüringen                 0.035244\n",
              "Berlin                    0.034179\n",
              "Brandenburg               0.030207\n",
              "Mecklenburg_Vorpommern    0.028805\n",
              "Rheinland_Pfalz           0.028547\n",
              "Schleswig_Holstein        0.027404\n",
              "Bremen                    0.011905\n",
              "Hamburg                   0.011672\n",
              "Saarland                  0.004644\n",
              "Name: regio1, dtype: float64"
            ]
          },
          "metadata": {},
          "execution_count": 34
        }
      ],
      "source": [
        "data['regio1'].value_counts(normalize=True, sort=True)"
      ]
    },
    {
      "cell_type": "code",
      "execution_count": 35,
      "metadata": {
        "id": "Sz2qp2l0lSAf"
      },
      "outputs": [],
      "source": [
        "data.loc[(data['regio1'] != 'Sachsen') & (data['regio1'] != 'Nordrhein_Westfalen'), 'regio1'] = 'other'"
      ]
    },
    {
      "cell_type": "code",
      "execution_count": 36,
      "metadata": {
        "id": "w1q5d6c0lWhp"
      },
      "outputs": [],
      "source": [
        "d2 = pd.get_dummies(data['regio1'])\n",
        "d2 = d2.rename(columns={\"Sachsen\": \"regio1_Sachsen\", \"Nordrhein_Westfalen\": \"regio1_Nordrhein_Westfalen\", \"other\": \"regio1_other\"})\n",
        "data = data.join(d2)\n",
        "data.drop([\"regio1\"], axis = 1, inplace = True)"
      ]
    },
    {
      "cell_type": "code",
      "execution_count": 37,
      "metadata": {
        "colab": {
          "base_uri": "https://localhost:8080/"
        },
        "id": "R5xSg3dGlwO_",
        "outputId": "c64167f9-c6b3-42fc-8384-62df8d3e1b22"
      },
      "outputs": [
        {
          "output_type": "execute_result",
          "data": {
            "text/plain": [
              "central_heating                   0.497290\n",
              "NO_INFORMATION                    0.156320\n",
              "district_heating                  0.094029\n",
              "gas_heating                       0.080836\n",
              "self_contained_central_heating    0.066413\n",
              "floor_heating                     0.054725\n",
              "oil_heating                       0.020040\n",
              "heat_pump                         0.008781\n",
              "combined_heat_and_power_plant     0.007359\n",
              "night_storage_heater              0.005544\n",
              "wood_pellet_heating               0.003563\n",
              "electric_heating                  0.003408\n",
              "stove_heating                     0.001148\n",
              "solar_heating                     0.000543\n",
              "Name: heatingType, dtype: float64"
            ]
          },
          "metadata": {},
          "execution_count": 37
        }
      ],
      "source": [
        "data['heatingType'].value_counts(normalize=True, sort=True)"
      ]
    },
    {
      "cell_type": "code",
      "execution_count": 38,
      "metadata": {
        "id": "ta59TOnkl2hJ"
      },
      "outputs": [],
      "source": [
        "data.loc[(data['heatingType'] != 'central_heating') & (data['heatingType'] != 'NO_INFORMATION'), 'heatingType'] = 'other'"
      ]
    },
    {
      "cell_type": "code",
      "execution_count": 39,
      "metadata": {
        "id": "WFaoPt8MmCJN"
      },
      "outputs": [],
      "source": [
        "d2 = pd.get_dummies(data['heatingType'])\n",
        "d2 = d2.rename(columns={\"central_heating\": \"heatingType_central_heating\", \"NO_INFORMATION\": \"heatingType_NO_INFORMATION\", \"other\": \"heatingType_other\"})\n",
        "data = data.join(d2)\n",
        "data.drop([\"heatingType\"], axis = 1, inplace = True)"
      ]
    },
    {
      "cell_type": "code",
      "execution_count": 40,
      "metadata": {
        "colab": {
          "base_uri": "https://localhost:8080/"
        },
        "id": "YuzMMhApmSuW",
        "outputId": "8a2f8997-a3bc-4cbd-a297-afc2f36f40e0"
      },
      "outputs": [
        {
          "output_type": "execute_result",
          "data": {
            "text/plain": [
              "apartment              0.498335\n",
              "roof_storey            0.135432\n",
              "NO_INFORMATION         0.132376\n",
              "ground_floor           0.121267\n",
              "other                  0.037706\n",
              "maisonette             0.024467\n",
              "raised_ground_floor    0.023003\n",
              "terraced_flat          0.011031\n",
              "half_basement          0.008285\n",
              "penthouse              0.005818\n",
              "loft                   0.002281\n",
              "Name: typeOfFlat, dtype: float64"
            ]
          },
          "metadata": {},
          "execution_count": 40
        }
      ],
      "source": [
        "data['typeOfFlat'].value_counts(normalize=True, sort=True)"
      ]
    },
    {
      "cell_type": "code",
      "execution_count": 41,
      "metadata": {
        "id": "0TENK-m-magb"
      },
      "outputs": [],
      "source": [
        "data.loc[(data['typeOfFlat'] != 'apartment') & (data['typeOfFlat'] != 'roof_storey') & (data['typeOfFlat'] != 'NO_INFORMATION'), 'typeOfFlat'] = 'other'"
      ]
    },
    {
      "cell_type": "code",
      "execution_count": 42,
      "metadata": {
        "id": "_vkwT8IGmrcI"
      },
      "outputs": [],
      "source": [
        "d2 = pd.get_dummies(data['typeOfFlat'])\n",
        "d2 = d2.rename(columns={\"apartment\": \"typeOfFlat_apartment\", \"roof_storey\": \"typeOfFlat_roof_storey\", \"NO_INFORMATION\": \"typeOfFlat_NO_INFORMATION\", \"other\": \"typeOfFlat_other\"})\n",
        "data = data.join(d2)\n",
        "data.drop([\"typeOfFlat\"], axis = 1, inplace = True)"
      ]
    },
    {
      "cell_type": "markdown",
      "metadata": {
        "id": "3Lq5y_5RyBCw"
      },
      "source": [
        "# **Making Models**"
      ]
    },
    {
      "cell_type": "code",
      "execution_count": 43,
      "metadata": {
        "id": "YvZFY--LyW2M"
      },
      "outputs": [],
      "source": [
        "import numpy as np\n",
        "import matplotlib.pyplot as plt\n",
        "from numpy import asarray\n",
        "from sklearn.preprocessing import StandardScaler, MinMaxScaler\n",
        "from sklearn.linear_model import LogisticRegression, LinearRegression\n",
        "from sklearn.pipeline import Pipeline\n",
        "from sklearn.metrics import r2_score, mean_squared_error\n",
        "from sklearn.model_selection import train_test_split\n",
        "# example of increase in mean squared error"
      ]
    },
    {
      "cell_type": "code",
      "execution_count": 44,
      "metadata": {
        "colab": {
          "base_uri": "https://localhost:8080/",
          "height": 411
        },
        "id": "hMyE1aMiwHwc",
        "outputId": "9a4194b7-0cb0-4997-c5ab-2388c21aaf61"
      },
      "outputs": [
        {
          "output_type": "display_data",
          "data": {
            "text/plain": [
              "<Figure size 288x288 with 2 Axes>"
            ],
            "image/png": "[encoded data removed]"
          },
          "metadata": {
            "needs_background": "light"
          }
        }
      ],
      "source": [
        "plt.matshow(data.corr())\n",
        "plt.xticks(np.arange(35), data.columns, rotation=90)\n",
        "plt.yticks(np.arange(35), data.columns, rotation=0)\n",
        "plt.colorbar()\n",
        "plt.show()"
      ]
    },
    {
      "cell_type": "code",
      "execution_count": 45,
      "metadata": {
        "colab": {
          "base_uri": "https://localhost:8080/",
          "height": 1000
        },
        "id": "LvVMybv6oxLt",
        "outputId": "709d0c91-8077-45c0-a828-0946cd11b7aa"
      },
      "outputs": [
        {
          "output_type": "execute_result",
          "data": {
            "text/plain": [
              "                               serviceCharge  newlyConst  balcony  \\\n",
              "serviceCharge                           True       False    False   \n",
              "newlyConst                             False        True    False   \n",
              "balcony                                False       False     True   \n",
              "telekomUploadSpeed                     False       False    False   \n",
              "totalRent                              False        True     True   \n",
              "yearConstructed                        False        True     True   \n",
              "hasKitchen                             False       False    False   \n",
              "cellar                                 False       False    False   \n",
              "baseRent                               False        True     True   \n",
              "livingSpace                            False       False     True   \n",
              "petsAllowed                            False       False    False   \n",
              "lift                                   False        True    False   \n",
              "noRooms                                False       False    False   \n",
              "thermalChar                            False       False    False   \n",
              "floor                                  False       False    False   \n",
              "numberOfFloors                         False       False    False   \n",
              "garden                                 False       False    False   \n",
              "telekomTvOffer_NONE                    False       False    False   \n",
              "telekomTvOffer_NO_INFORMATION          False        True    False   \n",
              "telekomTvOffer_ONE_YEAR_FREE           False       False    False   \n",
              "telekomTvOffer_ON_DEMAND               False       False    False   \n",
              "firingTypes_district_heating           False       False    False   \n",
              "firingTypes_gas                        False       False    False   \n",
              "firingTypes_no_information             False       False    False   \n",
              "firingTypes_other                      False       False    False   \n",
              "regio1_Nordrhein_Westfalen             False       False    False   \n",
              "regio1_Sachsen                         False       False    False   \n",
              "regio1_other                           False       False    False   \n",
              "heatingType_NO_INFORMATION             False       False    False   \n",
              "heatingType_central_heating            False       False    False   \n",
              "heatingType_other                      False       False    False   \n",
              "typeOfFlat_NO_INFORMATION              False       False    False   \n",
              "typeOfFlat_apartment                   False       False    False   \n",
              "typeOfFlat_other                       False       False    False   \n",
              "typeOfFlat_roof_storey                 False       False    False   \n",
              "\n",
              "                               telekomUploadSpeed  totalRent  yearConstructed  \\\n",
              "serviceCharge                               False      False            False   \n",
              "newlyConst                                  False       True             True   \n",
              "balcony                                     False       True             True   \n",
              "telekomUploadSpeed                           True      False            False   \n",
              "totalRent                                   False       True             True   \n",
              "yearConstructed                             False       True             True   \n",
              "hasKitchen                                  False       True            False   \n",
              "cellar                                      False      False            False   \n",
              "baseRent                                    False       True             True   \n",
              "livingSpace                                 False       True            False   \n",
              "petsAllowed                                 False      False            False   \n",
              "lift                                        False       True             True   \n",
              "noRooms                                     False       True            False   \n",
              "thermalChar                                 False      False            False   \n",
              "floor                                       False      False            False   \n",
              "numberOfFloors                              False      False            False   \n",
              "garden                                      False      False            False   \n",
              "telekomTvOffer_NONE                         False      False            False   \n",
              "telekomTvOffer_NO_INFORMATION               False      False            False   \n",
              "telekomTvOffer_ONE_YEAR_FREE                False      False            False   \n",
              "telekomTvOffer_ON_DEMAND                    False      False            False   \n",
              "firingTypes_district_heating                False      False            False   \n",
              "firingTypes_gas                             False      False            False   \n",
              "firingTypes_no_information                  False      False            False   \n",
              "firingTypes_other                           False      False            False   \n",
              "regio1_Nordrhein_Westfalen                  False      False            False   \n",
              "regio1_Sachsen                              False      False            False   \n",
              "regio1_other                                False       True            False   \n",
              "heatingType_NO_INFORMATION                  False      False            False   \n",
              "heatingType_central_heating                 False      False            False   \n",
              "heatingType_other                           False      False            False   \n",
              "typeOfFlat_NO_INFORMATION                   False      False            False   \n",
              "typeOfFlat_apartment                        False      False            False   \n",
              "typeOfFlat_other                            False      False            False   \n",
              "typeOfFlat_roof_storey                      False      False            False   \n",
              "\n",
              "                               hasKitchen  cellar  baseRent  livingSpace  ...  \\\n",
              "serviceCharge                       False   False     False        False  ...   \n",
              "newlyConst                          False   False      True        False  ...   \n",
              "balcony                             False   False      True         True  ...   \n",
              "telekomUploadSpeed                  False   False     False        False  ...   \n",
              "totalRent                            True   False      True         True  ...   \n",
              "yearConstructed                     False   False      True        False  ...   \n",
              "hasKitchen                           True   False      True        False  ...   \n",
              "cellar                              False    True     False        False  ...   \n",
              "baseRent                             True   False      True         True  ...   \n",
              "livingSpace                         False   False      True         True  ...   \n",
              "petsAllowed                         False   False     False        False  ...   \n",
              "lift                                False   False      True        False  ...   \n",
              "noRooms                             False   False      True         True  ...   \n",
              "thermalChar                         False   False     False        False  ...   \n",
              "floor                               False   False     False        False  ...   \n",
              "numberOfFloors                      False   False     False        False  ...   \n",
              "garden                              False   False     False        False  ...   \n",
              "telekomTvOffer_NONE                 False   False     False        False  ...   \n",
              "telekomTvOffer_NO_INFORMATION       False   False     False        False  ...   \n",
              "telekomTvOffer_ONE_YEAR_FREE        False   False     False        False  ...   \n",
              "telekomTvOffer_ON_DEMAND            False   False     False        False  ...   \n",
              "firingTypes_district_heating        False   False     False        False  ...   \n",
              "firingTypes_gas                     False   False     False        False  ...   \n",
              "firingTypes_no_information          False   False     False        False  ...   \n",
              "firingTypes_other                   False   False     False        False  ...   \n",
              "regio1_Nordrhein_Westfalen          False   False     False        False  ...   \n",
              "regio1_Sachsen                      False   False     False        False  ...   \n",
              "regio1_other                         True   False      True        False  ...   \n",
              "heatingType_NO_INFORMATION          False   False     False        False  ...   \n",
              "heatingType_central_heating         False   False     False        False  ...   \n",
              "heatingType_other                   False   False     False        False  ...   \n",
              "typeOfFlat_NO_INFORMATION           False   False     False        False  ...   \n",
              "typeOfFlat_apartment                False   False     False        False  ...   \n",
              "typeOfFlat_other                    False   False     False        False  ...   \n",
              "typeOfFlat_roof_storey              False   False     False        False  ...   \n",
              "\n",
              "                               regio1_Nordrhein_Westfalen  regio1_Sachsen  \\\n",
              "serviceCharge                                       False           False   \n",
              "newlyConst                                          False           False   \n",
              "balcony                                             False           False   \n",
              "telekomUploadSpeed                                  False           False   \n",
              "totalRent                                           False           False   \n",
              "yearConstructed                                     False           False   \n",
              "hasKitchen                                          False           False   \n",
              "cellar                                              False           False   \n",
              "baseRent                                            False           False   \n",
              "livingSpace                                         False           False   \n",
              "petsAllowed                                         False           False   \n",
              "lift                                                False           False   \n",
              "noRooms                                             False           False   \n",
              "thermalChar                                         False           False   \n",
              "floor                                               False           False   \n",
              "numberOfFloors                                      False           False   \n",
              "garden                                              False           False   \n",
              "telekomTvOffer_NONE                                 False           False   \n",
              "telekomTvOffer_NO_INFORMATION                       False           False   \n",
              "telekomTvOffer_ONE_YEAR_FREE                        False           False   \n",
              "telekomTvOffer_ON_DEMAND                            False           False   \n",
              "firingTypes_district_heating                        False           False   \n",
              "firingTypes_gas                                     False           False   \n",
              "firingTypes_no_information                          False           False   \n",
              "firingTypes_other                                   False           False   \n",
              "regio1_Nordrhein_Westfalen                           True           False   \n",
              "regio1_Sachsen                                      False            True   \n",
              "regio1_other                                        False           False   \n",
              "heatingType_NO_INFORMATION                          False           False   \n",
              "heatingType_central_heating                         False           False   \n",
              "heatingType_other                                   False           False   \n",
              "typeOfFlat_NO_INFORMATION                           False           False   \n",
              "typeOfFlat_apartment                                False           False   \n",
              "typeOfFlat_other                                    False           False   \n",
              "typeOfFlat_roof_storey                              False           False   \n",
              "\n",
              "                               regio1_other  heatingType_NO_INFORMATION  \\\n",
              "serviceCharge                         False                       False   \n",
              "newlyConst                            False                       False   \n",
              "balcony                               False                       False   \n",
              "telekomUploadSpeed                    False                       False   \n",
              "totalRent                              True                       False   \n",
              "yearConstructed                       False                       False   \n",
              "hasKitchen                             True                       False   \n",
              "cellar                                False                       False   \n",
              "baseRent                               True                       False   \n",
              "livingSpace                           False                       False   \n",
              "petsAllowed                           False                       False   \n",
              "lift                                  False                       False   \n",
              "noRooms                               False                       False   \n",
              "thermalChar                           False                       False   \n",
              "floor                                 False                       False   \n",
              "numberOfFloors                        False                       False   \n",
              "garden                                False                       False   \n",
              "telekomTvOffer_NONE                   False                       False   \n",
              "telekomTvOffer_NO_INFORMATION         False                       False   \n",
              "telekomTvOffer_ONE_YEAR_FREE          False                       False   \n",
              "telekomTvOffer_ON_DEMAND              False                       False   \n",
              "firingTypes_district_heating          False                       False   \n",
              "firingTypes_gas                       False                       False   \n",
              "firingTypes_no_information            False                        True   \n",
              "firingTypes_other                     False                       False   \n",
              "regio1_Nordrhein_Westfalen            False                       False   \n",
              "regio1_Sachsen                        False                       False   \n",
              "regio1_other                           True                       False   \n",
              "heatingType_NO_INFORMATION            False                        True   \n",
              "heatingType_central_heating           False                       False   \n",
              "heatingType_other                     False                       False   \n",
              "typeOfFlat_NO_INFORMATION             False                       False   \n",
              "typeOfFlat_apartment                  False                       False   \n",
              "typeOfFlat_other                      False                       False   \n",
              "typeOfFlat_roof_storey                False                       False   \n",
              "\n",
              "                               heatingType_central_heating  heatingType_other  \\\n",
              "serviceCharge                                        False              False   \n",
              "newlyConst                                           False              False   \n",
              "balcony                                              False              False   \n",
              "telekomUploadSpeed                                   False              False   \n",
              "totalRent                                            False              False   \n",
              "yearConstructed                                      False              False   \n",
              "hasKitchen                                           False              False   \n",
              "cellar                                               False              False   \n",
              "baseRent                                             False              False   \n",
              "livingSpace                                          False              False   \n",
              "petsAllowed                                          False              False   \n",
              "lift                                                 False              False   \n",
              "noRooms                                              False              False   \n",
              "thermalChar                                          False              False   \n",
              "floor                                                False              False   \n",
              "numberOfFloors                                       False              False   \n",
              "garden                                               False              False   \n",
              "telekomTvOffer_NONE                                  False              False   \n",
              "telekomTvOffer_NO_INFORMATION                        False              False   \n",
              "telekomTvOffer_ONE_YEAR_FREE                         False              False   \n",
              "telekomTvOffer_ON_DEMAND                             False              False   \n",
              "firingTypes_district_heating                         False              False   \n",
              "firingTypes_gas                                      False              False   \n",
              "firingTypes_no_information                           False              False   \n",
              "firingTypes_other                                    False              False   \n",
              "regio1_Nordrhein_Westfalen                           False              False   \n",
              "regio1_Sachsen                                       False              False   \n",
              "regio1_other                                         False              False   \n",
              "heatingType_NO_INFORMATION                           False              False   \n",
              "heatingType_central_heating                           True              False   \n",
              "heatingType_other                                    False               True   \n",
              "typeOfFlat_NO_INFORMATION                            False              False   \n",
              "typeOfFlat_apartment                                 False              False   \n",
              "typeOfFlat_other                                     False              False   \n",
              "typeOfFlat_roof_storey                               False              False   \n",
              "\n",
              "                               typeOfFlat_NO_INFORMATION  \\\n",
              "serviceCharge                                      False   \n",
              "newlyConst                                         False   \n",
              "balcony                                            False   \n",
              "telekomUploadSpeed                                 False   \n",
              "totalRent                                          False   \n",
              "yearConstructed                                    False   \n",
              "hasKitchen                                         False   \n",
              "cellar                                             False   \n",
              "baseRent                                           False   \n",
              "livingSpace                                        False   \n",
              "petsAllowed                                        False   \n",
              "lift                                               False   \n",
              "noRooms                                            False   \n",
              "thermalChar                                        False   \n",
              "floor                                              False   \n",
              "numberOfFloors                                     False   \n",
              "garden                                             False   \n",
              "telekomTvOffer_NONE                                False   \n",
              "telekomTvOffer_NO_INFORMATION                      False   \n",
              "telekomTvOffer_ONE_YEAR_FREE                       False   \n",
              "telekomTvOffer_ON_DEMAND                           False   \n",
              "firingTypes_district_heating                       False   \n",
              "firingTypes_gas                                    False   \n",
              "firingTypes_no_information                         False   \n",
              "firingTypes_other                                  False   \n",
              "regio1_Nordrhein_Westfalen                         False   \n",
              "regio1_Sachsen                                     False   \n",
              "regio1_other                                       False   \n",
              "heatingType_NO_INFORMATION                         False   \n",
              "heatingType_central_heating                        False   \n",
              "heatingType_other                                  False   \n",
              "typeOfFlat_NO_INFORMATION                           True   \n",
              "typeOfFlat_apartment                               False   \n",
              "typeOfFlat_other                                   False   \n",
              "typeOfFlat_roof_storey                             False   \n",
              "\n",
              "                               typeOfFlat_apartment  typeOfFlat_other  \\\n",
              "serviceCharge                                 False             False   \n",
              "newlyConst                                    False             False   \n",
              "balcony                                       False             False   \n",
              "telekomUploadSpeed                            False             False   \n",
              "totalRent                                     False             False   \n",
              "yearConstructed                               False             False   \n",
              "hasKitchen                                    False             False   \n",
              "cellar                                        False             False   \n",
              "baseRent                                      False             False   \n",
              "livingSpace                                   False             False   \n",
              "petsAllowed                                   False             False   \n",
              "lift                                          False             False   \n",
              "noRooms                                       False             False   \n",
              "thermalChar                                   False             False   \n",
              "floor                                         False             False   \n",
              "numberOfFloors                                False             False   \n",
              "garden                                        False             False   \n",
              "telekomTvOffer_NONE                           False             False   \n",
              "telekomTvOffer_NO_INFORMATION                 False             False   \n",
              "telekomTvOffer_ONE_YEAR_FREE                  False             False   \n",
              "telekomTvOffer_ON_DEMAND                      False             False   \n",
              "firingTypes_district_heating                  False             False   \n",
              "firingTypes_gas                               False             False   \n",
              "firingTypes_no_information                    False             False   \n",
              "firingTypes_other                             False             False   \n",
              "regio1_Nordrhein_Westfalen                    False             False   \n",
              "regio1_Sachsen                                False             False   \n",
              "regio1_other                                  False             False   \n",
              "heatingType_NO_INFORMATION                    False             False   \n",
              "heatingType_central_heating                   False             False   \n",
              "heatingType_other                             False             False   \n",
              "typeOfFlat_NO_INFORMATION                     False             False   \n",
              "typeOfFlat_apartment                           True             False   \n",
              "typeOfFlat_other                              False              True   \n",
              "typeOfFlat_roof_storey                        False             False   \n",
              "\n",
              "                               typeOfFlat_roof_storey  \n",
              "serviceCharge                                   False  \n",
              "newlyConst                                      False  \n",
              "balcony                                         False  \n",
              "telekomUploadSpeed                              False  \n",
              "totalRent                                       False  \n",
              "yearConstructed                                 False  \n",
              "hasKitchen                                      False  \n",
              "cellar                                          False  \n",
              "baseRent                                        False  \n",
              "livingSpace                                     False  \n",
              "petsAllowed                                     False  \n",
              "lift                                            False  \n",
              "noRooms                                         False  \n",
              "thermalChar                                     False  \n",
              "floor                                           False  \n",
              "numberOfFloors                                  False  \n",
              "garden                                          False  \n",
              "telekomTvOffer_NONE                             False  \n",
              "telekomTvOffer_NO_INFORMATION                   False  \n",
              "telekomTvOffer_ONE_YEAR_FREE                    False  \n",
              "telekomTvOffer_ON_DEMAND                        False  \n",
              "firingTypes_district_heating                    False  \n",
              "firingTypes_gas                                 False  \n",
              "firingTypes_no_information                      False  \n",
              "firingTypes_other                               False  \n",
              "regio1_Nordrhein_Westfalen                      False  \n",
              "regio1_Sachsen                                  False  \n",
              "regio1_other                                    False  \n",
              "heatingType_NO_INFORMATION                      False  \n",
              "heatingType_central_heating                     False  \n",
              "heatingType_other                               False  \n",
              "typeOfFlat_NO_INFORMATION                       False  \n",
              "typeOfFlat_apartment                            False  \n",
              "typeOfFlat_other                                False  \n",
              "typeOfFlat_roof_storey                           True  \n",
              "\n",
              "[35 rows x 35 columns]"
            ],
            "text/html": [
              "\n",
              "  <div id=\"df-c80f1708-069c-4e60-abf8-247136f53c93\">\n",
              "    <div class=\"colab-df-container\">\n",
              "      <div>\n",
              "<style scoped>\n",
              "    .dataframe tbody tr th:only-of-type {\n",
              "        vertical-align: middle;\n",
              "    }\n",
              "\n",
              "    .dataframe tbody tr th {\n",
              "        vertical-align: top;\n",
              "    }\n",
              "\n",
              "    .dataframe thead th {\n",
              "        text-align: right;\n",
              "    }\n",
              "</style>\n",
              "<table border=\"1\" class=\"dataframe\">\n",
              "  <thead>\n",
              "    <tr style=\"text-align: right;\">\n",
              "      <th></th>\n",
              "      <th>serviceCharge</th>\n",
              "      <th>newlyConst</th>\n",
              "      <th>balcony</th>\n",
              "      <th>telekomUploadSpeed</th>\n",
              "      <th>totalRent</th>\n",
              "      <th>yearConstructed</th>\n",
              "      <th>hasKitchen</th>\n",
              "      <th>cellar</th>\n",
              "      <th>baseRent</th>\n",
              "      <th>livingSpace</th>\n",
              "      <th>...</th>\n",
              "      <th>regio1_Nordrhein_Westfalen</th>\n",
              "      <th>regio1_Sachsen</th>\n",
              "      <th>regio1_other</th>\n",
              "      <th>heatingType_NO_INFORMATION</th>\n",
              "      <th>heatingType_central_heating</th>\n",
              "      <th>heatingType_other</th>\n",
              "      <th>typeOfFlat_NO_INFORMATION</th>\n",
              "      <th>typeOfFlat_apartment</th>\n",
              "      <th>typeOfFlat_other</th>\n",
              "      <th>typeOfFlat_roof_storey</th>\n",
              "    </tr>\n",
              "  </thead>\n",
              "  <tbody>\n",
              "    <tr>\n",
              "      <th>serviceCharge</th>\n",
              "      <td>True</td>\n",
              "      <td>False</td>\n",
              "      <td>False</td>\n",
              "      <td>False</td>\n",
              "      <td>False</td>\n",
              "      <td>False</td>\n",
              "      <td>False</td>\n",
              "      <td>False</td>\n",
              "      <td>False</td>\n",
              "      <td>False</td>\n",
              "      <td>...</td>\n",
              "      <td>False</td>\n",
              "      <td>False</td>\n",
              "      <td>False</td>\n",
              "      <td>False</td>\n",
              "      <td>False</td>\n",
              "      <td>False</td>\n",
              "      <td>False</td>\n",
              "      <td>False</td>\n",
              "      <td>False</td>\n",
              "      <td>False</td>\n",
              "    </tr>\n",
              "    <tr>\n",
              "      <th>newlyConst</th>\n",
              "      <td>False</td>\n",
              "      <td>True</td>\n",
              "      <td>False</td>\n",
              "      <td>False</td>\n",
              "      <td>True</td>\n",
              "      <td>True</td>\n",
              "      <td>False</td>\n",
              "      <td>False</td>\n",
              "      <td>True</td>\n",
              "      <td>False</td>\n",
              "      <td>...</td>\n",
              "      <td>False</td>\n",
              "      <td>False</td>\n",
              "      <td>False</td>\n",
              "      <td>False</td>\n",
              "      <td>False</td>\n",
              "      <td>False</td>\n",
              "      <td>False</td>\n",
              "      <td>False</td>\n",
              "      <td>False</td>\n",
              "      <td>False</td>\n",
              "    </tr>\n",
              "    <tr>\n",
              "      <th>balcony</th>\n",
              "      <td>False</td>\n",
              "      <td>False</td>\n",
              "      <td>True</td>\n",
              "      <td>False</td>\n",
              "      <td>True</td>\n",
              "      <td>True</td>\n",
              "      <td>False</td>\n",
              "      <td>False</td>\n",
              "      <td>True</td>\n",
              "      <td>True</td>\n",
              "      <td>...</td>\n",
              "      <td>False</td>\n",
              "      <td>False</td>\n",
              "      <td>False</td>\n",
              "      <td>False</td>\n",
              "      <td>False</td>\n",
              "      <td>False</td>\n",
              "      <td>False</td>\n",
              "      <td>False</td>\n",
              "      <td>False</td>\n",
              "      <td>False</td>\n",
              "    </tr>\n",
              "    <tr>\n",
              "      <th>telekomUploadSpeed</th>\n",
              "      <td>False</td>\n",
              "      <td>False</td>\n",
              "      <td>False</td>\n",
              "      <td>True</td>\n",
              "      <td>False</td>\n",
              "      <td>False</td>\n",
              "      <td>False</td>\n",
              "      <td>False</td>\n",
              "      <td>False</td>\n",
              "      <td>False</td>\n",
              "      <td>...</td>\n",
              "      <td>False</td>\n",
              "      <td>False</td>\n",
              "      <td>False</td>\n",
              "      <td>False</td>\n",
              "      <td>False</td>\n",
              "      <td>False</td>\n",
              "      <td>False</td>\n",
              "      <td>False</td>\n",
              "      <td>False</td>\n",
              "      <td>False</td>\n",
              "    </tr>\n",
              "    <tr>\n",
              "      <th>totalRent</th>\n",
              "      <td>False</td>\n",
              "      <td>True</td>\n",
              "      <td>True</td>\n",
              "      <td>False</td>\n",
              "      <td>True</td>\n",
              "      <td>True</td>\n",
              "      <td>True</td>\n",
              "      <td>False</td>\n",
              "      <td>True</td>\n",
              "      <td>True</td>\n",
              "      <td>...</td>\n",
              "      <td>False</td>\n",
              "      <td>False</td>\n",
              "      <td>True</td>\n",
              "      <td>False</td>\n",
              "      <td>False</td>\n",
              "      <td>False</td>\n",
              "      <td>False</td>\n",
              "      <td>False</td>\n",
              "      <td>False</td>\n",
              "      <td>False</td>\n",
              "    </tr>\n",
              "    <tr>\n",
              "      <th>yearConstructed</th>\n",
              "      <td>False</td>\n",
              "      <td>True</td>\n",
              "      <td>True</td>\n",
              "      <td>False</td>\n",
              "      <td>True</td>\n",
              "      <td>True</td>\n",
              "      <td>False</td>\n",
              "      <td>False</td>\n",
              "      <td>True</td>\n",
              "      <td>False</td>\n",
              "      <td>...</td>\n",
              "      <td>False</td>\n",
              "      <td>False</td>\n",
              "      <td>False</td>\n",
              "      <td>False</td>\n",
              "      <td>False</td>\n",
              "      <td>False</td>\n",
              "      <td>False</td>\n",
              "      <td>False</td>\n",
              "      <td>False</td>\n",
              "      <td>False</td>\n",
              "    </tr>\n",
              "    <tr>\n",
              "      <th>hasKitchen</th>\n",
              "      <td>False</td>\n",
              "      <td>False</td>\n",
              "      <td>False</td>\n",
              "      <td>False</td>\n",
              "      <td>True</td>\n",
              "      <td>False</td>\n",
              "      <td>True</td>\n",
              "      <td>False</td>\n",
              "      <td>True</td>\n",
              "      <td>False</td>\n",
              "      <td>...</td>\n",
              "      <td>False</td>\n",
              "      <td>False</td>\n",
              "      <td>True</td>\n",
              "      <td>False</td>\n",
              "      <td>False</td>\n",
              "      <td>False</td>\n",
              "      <td>False</td>\n",
              "      <td>False</td>\n",
              "      <td>False</td>\n",
              "      <td>False</td>\n",
              "    </tr>\n",
              "    <tr>\n",
              "      <th>cellar</th>\n",
              "      <td>False</td>\n",
              "      <td>False</td>\n",
              "      <td>False</td>\n",
              "      <td>False</td>\n",
              "      <td>False</td>\n",
              "      <td>False</td>\n",
              "      <td>False</td>\n",
              "      <td>True</td>\n",
              "      <td>False</td>\n",
              "      <td>False</td>\n",
              "      <td>...</td>\n",
              "      <td>False</td>\n",
              "      <td>False</td>\n",
              "      <td>False</td>\n",
              "      <td>False</td>\n",
              "      <td>False</td>\n",
              "      <td>False</td>\n",
              "      <td>False</td>\n",
              "      <td>False</td>\n",
              "      <td>False</td>\n",
              "      <td>False</td>\n",
              "    </tr>\n",
              "    <tr>\n",
              "      <th>baseRent</th>\n",
              "      <td>False</td>\n",
              "      <td>True</td>\n",
              "      <td>True</td>\n",
              "      <td>False</td>\n",
              "      <td>True</td>\n",
              "      <td>True</td>\n",
              "      <td>True</td>\n",
              "      <td>False</td>\n",
              "      <td>True</td>\n",
              "      <td>True</td>\n",
              "      <td>...</td>\n",
              "      <td>False</td>\n",
              "      <td>False</td>\n",
              "      <td>True</td>\n",
              "      <td>False</td>\n",
              "      <td>False</td>\n",
              "      <td>False</td>\n",
              "      <td>False</td>\n",
              "      <td>False</td>\n",
              "      <td>False</td>\n",
              "      <td>False</td>\n",
              "    </tr>\n",
              "    <tr>\n",
              "      <th>livingSpace</th>\n",
              "      <td>False</td>\n",
              "      <td>False</td>\n",
              "      <td>True</td>\n",
              "      <td>False</td>\n",
              "      <td>True</td>\n",
              "      <td>False</td>\n",
              "      <td>False</td>\n",
              "      <td>False</td>\n",
              "      <td>True</td>\n",
              "      <td>True</td>\n",
              "      <td>...</td>\n",
              "      <td>False</td>\n",
              "      <td>False</td>\n",
              "      <td>False</td>\n",
              "      <td>False</td>\n",
              "      <td>False</td>\n",
              "      <td>False</td>\n",
              "      <td>False</td>\n",
              "      <td>False</td>\n",
              "      <td>False</td>\n",
              "      <td>False</td>\n",
              "    </tr>\n",
              "    <tr>\n",
              "      <th>petsAllowed</th>\n",
              "      <td>False</td>\n",
              "      <td>False</td>\n",
              "      <td>False</td>\n",
              "      <td>False</td>\n",
              "      <td>False</td>\n",
              "      <td>False</td>\n",
              "      <td>False</td>\n",
              "      <td>False</td>\n",
              "      <td>False</td>\n",
              "      <td>False</td>\n",
              "      <td>...</td>\n",
              "      <td>False</td>\n",
              "      <td>False</td>\n",
              "      <td>False</td>\n",
              "      <td>False</td>\n",
              "      <td>False</td>\n",
              "      <td>False</td>\n",
              "      <td>False</td>\n",
              "      <td>False</td>\n",
              "      <td>False</td>\n",
              "      <td>False</td>\n",
              "    </tr>\n",
              "    <tr>\n",
              "      <th>lift</th>\n",
              "      <td>False</td>\n",
              "      <td>True</td>\n",
              "      <td>False</td>\n",
              "      <td>False</td>\n",
              "      <td>True</td>\n",
              "      <td>True</td>\n",
              "      <td>False</td>\n",
              "      <td>False</td>\n",
              "      <td>True</td>\n",
              "      <td>False</td>\n",
              "      <td>...</td>\n",
              "      <td>False</td>\n",
              "      <td>False</td>\n",
              "      <td>False</td>\n",
              "      <td>False</td>\n",
              "      <td>False</td>\n",
              "      <td>False</td>\n",
              "      <td>False</td>\n",
              "      <td>False</td>\n",
              "      <td>False</td>\n",
              "      <td>False</td>\n",
              "    </tr>\n",
              "    <tr>\n",
              "      <th>noRooms</th>\n",
              "      <td>False</td>\n",
              "      <td>False</td>\n",
              "      <td>False</td>\n",
              "      <td>False</td>\n",
              "      <td>True</td>\n",
              "      <td>False</td>\n",
              "      <td>False</td>\n",
              "      <td>False</td>\n",
              "      <td>True</td>\n",
              "      <td>True</td>\n",
              "      <td>...</td>\n",
              "      <td>False</td>\n",
              "      <td>False</td>\n",
              "      <td>False</td>\n",
              "      <td>False</td>\n",
              "      <td>False</td>\n",
              "      <td>False</td>\n",
              "      <td>False</td>\n",
              "      <td>False</td>\n",
              "      <td>False</td>\n",
              "      <td>False</td>\n",
              "    </tr>\n",
              "    <tr>\n",
              "      <th>thermalChar</th>\n",
              "      <td>False</td>\n",
              "      <td>False</td>\n",
              "      <td>False</td>\n",
              "      <td>False</td>\n",
              "      <td>False</td>\n",
              "      <td>False</td>\n",
              "      <td>False</td>\n",
              "      <td>False</td>\n",
              "      <td>False</td>\n",
              "      <td>False</td>\n",
              "      <td>...</td>\n",
              "      <td>False</td>\n",
              "      <td>False</td>\n",
              "      <td>False</td>\n",
              "      <td>False</td>\n",
              "      <td>False</td>\n",
              "      <td>False</td>\n",
              "      <td>False</td>\n",
              "      <td>False</td>\n",
              "      <td>False</td>\n",
              "      <td>False</td>\n",
              "    </tr>\n",
              "    <tr>\n",
              "      <th>floor</th>\n",
              "      <td>False</td>\n",
              "      <td>False</td>\n",
              "      <td>False</td>\n",
              "      <td>False</td>\n",
              "      <td>False</td>\n",
              "      <td>False</td>\n",
              "      <td>False</td>\n",
              "      <td>False</td>\n",
              "      <td>False</td>\n",
              "      <td>False</td>\n",
              "      <td>...</td>\n",
              "      <td>False</td>\n",
              "      <td>False</td>\n",
              "      <td>False</td>\n",
              "      <td>False</td>\n",
              "      <td>False</td>\n",
              "      <td>False</td>\n",
              "      <td>False</td>\n",
              "      <td>False</td>\n",
              "      <td>False</td>\n",
              "      <td>False</td>\n",
              "    </tr>\n",
              "    <tr>\n",
              "      <th>numberOfFloors</th>\n",
              "      <td>False</td>\n",
              "      <td>False</td>\n",
              "      <td>False</td>\n",
              "      <td>False</td>\n",
              "      <td>False</td>\n",
              "      <td>False</td>\n",
              "      <td>False</td>\n",
              "      <td>False</td>\n",
              "      <td>False</td>\n",
              "      <td>False</td>\n",
              "      <td>...</td>\n",
              "      <td>False</td>\n",
              "      <td>False</td>\n",
              "      <td>False</td>\n",
              "      <td>False</td>\n",
              "      <td>False</td>\n",
              "      <td>False</td>\n",
              "      <td>False</td>\n",
              "      <td>False</td>\n",
              "      <td>False</td>\n",
              "      <td>False</td>\n",
              "    </tr>\n",
              "    <tr>\n",
              "      <th>garden</th>\n",
              "      <td>False</td>\n",
              "      <td>False</td>\n",
              "      <td>False</td>\n",
              "      <td>False</td>\n",
              "      <td>False</td>\n",
              "      <td>False</td>\n",
              "      <td>False</td>\n",
              "      <td>False</td>\n",
              "      <td>False</td>\n",
              "      <td>False</td>\n",
              "      <td>...</td>\n",
              "      <td>False</td>\n",
              "      <td>False</td>\n",
              "      <td>False</td>\n",
              "      <td>False</td>\n",
              "      <td>False</td>\n",
              "      <td>False</td>\n",
              "      <td>False</td>\n",
              "      <td>False</td>\n",
              "      <td>False</td>\n",
              "      <td>False</td>\n",
              "    </tr>\n",
              "    <tr>\n",
              "      <th>telekomTvOffer_NONE</th>\n",
              "      <td>False</td>\n",
              "      <td>False</td>\n",
              "      <td>False</td>\n",
              "      <td>False</td>\n",
              "      <td>False</td>\n",
              "      <td>False</td>\n",
              "      <td>False</td>\n",
              "      <td>False</td>\n",
              "      <td>False</td>\n",
              "      <td>False</td>\n",
              "      <td>...</td>\n",
              "      <td>False</td>\n",
              "      <td>False</td>\n",
              "      <td>False</td>\n",
              "      <td>False</td>\n",
              "      <td>False</td>\n",
              "      <td>False</td>\n",
              "      <td>False</td>\n",
              "      <td>False</td>\n",
              "      <td>False</td>\n",
              "      <td>False</td>\n",
              "    </tr>\n",
              "    <tr>\n",
              "      <th>telekomTvOffer_NO_INFORMATION</th>\n",
              "      <td>False</td>\n",
              "      <td>True</td>\n",
              "      <td>False</td>\n",
              "      <td>False</td>\n",
              "      <td>False</td>\n",
              "      <td>False</td>\n",
              "      <td>False</td>\n",
              "      <td>False</td>\n",
              "      <td>False</td>\n",
              "      <td>False</td>\n",
              "      <td>...</td>\n",
              "      <td>False</td>\n",
              "      <td>False</td>\n",
              "      <td>False</td>\n",
              "      <td>False</td>\n",
              "      <td>False</td>\n",
              "      <td>False</td>\n",
              "      <td>False</td>\n",
              "      <td>False</td>\n",
              "      <td>False</td>\n",
              "      <td>False</td>\n",
              "    </tr>\n",
              "    <tr>\n",
              "      <th>telekomTvOffer_ONE_YEAR_FREE</th>\n",
              "      <td>False</td>\n",
              "      <td>False</td>\n",
              "      <td>False</td>\n",
              "      <td>False</td>\n",
              "      <td>False</td>\n",
              "      <td>False</td>\n",
              "      <td>False</td>\n",
              "      <td>False</td>\n",
              "      <td>False</td>\n",
              "      <td>False</td>\n",
              "      <td>...</td>\n",
              "      <td>False</td>\n",
              "      <td>False</td>\n",
              "      <td>False</td>\n",
              "      <td>False</td>\n",
              "      <td>False</td>\n",
              "      <td>False</td>\n",
              "      <td>False</td>\n",
              "      <td>False</td>\n",
              "      <td>False</td>\n",
              "      <td>False</td>\n",
              "    </tr>\n",
              "    <tr>\n",
              "      <th>telekomTvOffer_ON_DEMAND</th>\n",
              "      <td>False</td>\n",
              "      <td>False</td>\n",
              "      <td>False</td>\n",
              "      <td>False</td>\n",
              "      <td>False</td>\n",
              "      <td>False</td>\n",
              "      <td>False</td>\n",
              "      <td>False</td>\n",
              "      <td>False</td>\n",
              "      <td>False</td>\n",
              "      <td>...</td>\n",
              "      <td>False</td>\n",
              "      <td>False</td>\n",
              "      <td>False</td>\n",
              "      <td>False</td>\n",
              "      <td>False</td>\n",
              "      <td>False</td>\n",
              "      <td>False</td>\n",
              "      <td>False</td>\n",
              "      <td>False</td>\n",
              "      <td>False</td>\n",
              "    </tr>\n",
              "    <tr>\n",
              "      <th>firingTypes_district_heating</th>\n",
              "      <td>False</td>\n",
              "      <td>False</td>\n",
              "      <td>False</td>\n",
              "      <td>False</td>\n",
              "      <td>False</td>\n",
              "      <td>False</td>\n",
              "      <td>False</td>\n",
              "      <td>False</td>\n",
              "      <td>False</td>\n",
              "      <td>False</td>\n",
              "      <td>...</td>\n",
              "      <td>False</td>\n",
              "      <td>False</td>\n",
              "      <td>False</td>\n",
              "      <td>False</td>\n",
              "      <td>False</td>\n",
              "      <td>False</td>\n",
              "      <td>False</td>\n",
              "      <td>False</td>\n",
              "      <td>False</td>\n",
              "      <td>False</td>\n",
              "    </tr>\n",
              "    <tr>\n",
              "      <th>firingTypes_gas</th>\n",
              "      <td>False</td>\n",
              "      <td>False</td>\n",
              "      <td>False</td>\n",
              "      <td>False</td>\n",
              "      <td>False</td>\n",
              "      <td>False</td>\n",
              "      <td>False</td>\n",
              "      <td>False</td>\n",
              "      <td>False</td>\n",
              "      <td>False</td>\n",
              "      <td>...</td>\n",
              "      <td>False</td>\n",
              "      <td>False</td>\n",
              "      <td>False</td>\n",
              "      <td>False</td>\n",
              "      <td>False</td>\n",
              "      <td>False</td>\n",
              "      <td>False</td>\n",
              "      <td>False</td>\n",
              "      <td>False</td>\n",
              "      <td>False</td>\n",
              "    </tr>\n",
              "    <tr>\n",
              "      <th>firingTypes_no_information</th>\n",
              "      <td>False</td>\n",
              "      <td>False</td>\n",
              "      <td>False</td>\n",
              "      <td>False</td>\n",
              "      <td>False</td>\n",
              "      <td>False</td>\n",
              "      <td>False</td>\n",
              "      <td>False</td>\n",
              "      <td>False</td>\n",
              "      <td>False</td>\n",
              "      <td>...</td>\n",
              "      <td>False</td>\n",
              "      <td>False</td>\n",
              "      <td>False</td>\n",
              "      <td>True</td>\n",
              "      <td>False</td>\n",
              "      <td>False</td>\n",
              "      <td>False</td>\n",
              "      <td>False</td>\n",
              "      <td>False</td>\n",
              "      <td>False</td>\n",
              "    </tr>\n",
              "    <tr>\n",
              "      <th>firingTypes_other</th>\n",
              "      <td>False</td>\n",
              "      <td>False</td>\n",
              "      <td>False</td>\n",
              "      <td>False</td>\n",
              "      <td>False</td>\n",
              "      <td>False</td>\n",
              "      <td>False</td>\n",
              "      <td>False</td>\n",
              "      <td>False</td>\n",
              "      <td>False</td>\n",
              "      <td>...</td>\n",
              "      <td>False</td>\n",
              "      <td>False</td>\n",
              "      <td>False</td>\n",
              "      <td>False</td>\n",
              "      <td>False</td>\n",
              "      <td>False</td>\n",
              "      <td>False</td>\n",
              "      <td>False</td>\n",
              "      <td>False</td>\n",
              "      <td>False</td>\n",
              "    </tr>\n",
              "    <tr>\n",
              "      <th>regio1_Nordrhein_Westfalen</th>\n",
              "      <td>False</td>\n",
              "      <td>False</td>\n",
              "      <td>False</td>\n",
              "      <td>False</td>\n",
              "      <td>False</td>\n",
              "      <td>False</td>\n",
              "      <td>False</td>\n",
              "      <td>False</td>\n",
              "      <td>False</td>\n",
              "      <td>False</td>\n",
              "      <td>...</td>\n",
              "      <td>True</td>\n",
              "      <td>False</td>\n",
              "      <td>False</td>\n",
              "      <td>False</td>\n",
              "      <td>False</td>\n",
              "      <td>False</td>\n",
              "      <td>False</td>\n",
              "      <td>False</td>\n",
              "      <td>False</td>\n",
              "      <td>False</td>\n",
              "    </tr>\n",
              "    <tr>\n",
              "      <th>regio1_Sachsen</th>\n",
              "      <td>False</td>\n",
              "      <td>False</td>\n",
              "      <td>False</td>\n",
              "      <td>False</td>\n",
              "      <td>False</td>\n",
              "      <td>False</td>\n",
              "      <td>False</td>\n",
              "      <td>False</td>\n",
              "      <td>False</td>\n",
              "      <td>False</td>\n",
              "      <td>...</td>\n",
              "      <td>False</td>\n",
              "      <td>True</td>\n",
              "      <td>False</td>\n",
              "      <td>False</td>\n",
              "      <td>False</td>\n",
              "      <td>False</td>\n",
              "      <td>False</td>\n",
              "      <td>False</td>\n",
              "      <td>False</td>\n",
              "      <td>False</td>\n",
              "    </tr>\n",
              "    <tr>\n",
              "      <th>regio1_other</th>\n",
              "      <td>False</td>\n",
              "      <td>False</td>\n",
              "      <td>False</td>\n",
              "      <td>False</td>\n",
              "      <td>True</td>\n",
              "      <td>False</td>\n",
              "      <td>True</td>\n",
              "      <td>False</td>\n",
              "      <td>True</td>\n",
              "      <td>False</td>\n",
              "      <td>...</td>\n",
              "      <td>False</td>\n",
              "      <td>False</td>\n",
              "      <td>True</td>\n",
              "      <td>False</td>\n",
              "      <td>False</td>\n",
              "      <td>False</td>\n",
              "      <td>False</td>\n",
              "      <td>False</td>\n",
              "      <td>False</td>\n",
              "      <td>False</td>\n",
              "    </tr>\n",
              "    <tr>\n",
              "      <th>heatingType_NO_INFORMATION</th>\n",
              "      <td>False</td>\n",
              "      <td>False</td>\n",
              "      <td>False</td>\n",
              "      <td>False</td>\n",
              "      <td>False</td>\n",
              "      <td>False</td>\n",
              "      <td>False</td>\n",
              "      <td>False</td>\n",
              "      <td>False</td>\n",
              "      <td>False</td>\n",
              "      <td>...</td>\n",
              "      <td>False</td>\n",
              "      <td>False</td>\n",
              "      <td>False</td>\n",
              "      <td>True</td>\n",
              "      <td>False</td>\n",
              "      <td>False</td>\n",
              "      <td>False</td>\n",
              "      <td>False</td>\n",
              "      <td>False</td>\n",
              "      <td>False</td>\n",
              "    </tr>\n",
              "    <tr>\n",
              "      <th>heatingType_central_heating</th>\n",
              "      <td>False</td>\n",
              "      <td>False</td>\n",
              "      <td>False</td>\n",
              "      <td>False</td>\n",
              "      <td>False</td>\n",
              "      <td>False</td>\n",
              "      <td>False</td>\n",
              "      <td>False</td>\n",
              "      <td>False</td>\n",
              "      <td>False</td>\n",
              "      <td>...</td>\n",
              "      <td>False</td>\n",
              "      <td>False</td>\n",
              "      <td>False</td>\n",
              "      <td>False</td>\n",
              "      <td>True</td>\n",
              "      <td>False</td>\n",
              "      <td>False</td>\n",
              "      <td>False</td>\n",
              "      <td>False</td>\n",
              "      <td>False</td>\n",
              "    </tr>\n",
              "    <tr>\n",
              "      <th>heatingType_other</th>\n",
              "      <td>False</td>\n",
              "      <td>False</td>\n",
              "      <td>False</td>\n",
              "      <td>False</td>\n",
              "      <td>False</td>\n",
              "      <td>False</td>\n",
              "      <td>False</td>\n",
              "      <td>False</td>\n",
              "      <td>False</td>\n",
              "      <td>False</td>\n",
              "      <td>...</td>\n",
              "      <td>False</td>\n",
              "      <td>False</td>\n",
              "      <td>False</td>\n",
              "      <td>False</td>\n",
              "      <td>False</td>\n",
              "      <td>True</td>\n",
              "      <td>False</td>\n",
              "      <td>False</td>\n",
              "      <td>False</td>\n",
              "      <td>False</td>\n",
              "    </tr>\n",
              "    <tr>\n",
              "      <th>typeOfFlat_NO_INFORMATION</th>\n",
              "      <td>False</td>\n",
              "      <td>False</td>\n",
              "      <td>False</td>\n",
              "      <td>False</td>\n",
              "      <td>False</td>\n",
              "      <td>False</td>\n",
              "      <td>False</td>\n",
              "      <td>False</td>\n",
              "      <td>False</td>\n",
              "      <td>False</td>\n",
              "      <td>...</td>\n",
              "      <td>False</td>\n",
              "      <td>False</td>\n",
              "      <td>False</td>\n",
              "      <td>False</td>\n",
              "      <td>False</td>\n",
              "      <td>False</td>\n",
              "      <td>True</td>\n",
              "      <td>False</td>\n",
              "      <td>False</td>\n",
              "      <td>False</td>\n",
              "    </tr>\n",
              "    <tr>\n",
              "      <th>typeOfFlat_apartment</th>\n",
              "      <td>False</td>\n",
              "      <td>False</td>\n",
              "      <td>False</td>\n",
              "      <td>False</td>\n",
              "      <td>False</td>\n",
              "      <td>False</td>\n",
              "      <td>False</td>\n",
              "      <td>False</td>\n",
              "      <td>False</td>\n",
              "      <td>False</td>\n",
              "      <td>...</td>\n",
              "      <td>False</td>\n",
              "      <td>False</td>\n",
              "      <td>False</td>\n",
              "      <td>False</td>\n",
              "      <td>False</td>\n",
              "      <td>False</td>\n",
              "      <td>False</td>\n",
              "      <td>True</td>\n",
              "      <td>False</td>\n",
              "      <td>False</td>\n",
              "    </tr>\n",
              "    <tr>\n",
              "      <th>typeOfFlat_other</th>\n",
              "      <td>False</td>\n",
              "      <td>False</td>\n",
              "      <td>False</td>\n",
              "      <td>False</td>\n",
              "      <td>False</td>\n",
              "      <td>False</td>\n",
              "      <td>False</td>\n",
              "      <td>False</td>\n",
              "      <td>False</td>\n",
              "      <td>False</td>\n",
              "      <td>...</td>\n",
              "      <td>False</td>\n",
              "      <td>False</td>\n",
              "      <td>False</td>\n",
              "      <td>False</td>\n",
              "      <td>False</td>\n",
              "      <td>False</td>\n",
              "      <td>False</td>\n",
              "      <td>False</td>\n",
              "      <td>True</td>\n",
              "      <td>False</td>\n",
              "    </tr>\n",
              "    <tr>\n",
              "      <th>typeOfFlat_roof_storey</th>\n",
              "      <td>False</td>\n",
              "      <td>False</td>\n",
              "      <td>False</td>\n",
              "      <td>False</td>\n",
              "      <td>False</td>\n",
              "      <td>False</td>\n",
              "      <td>False</td>\n",
              "      <td>False</td>\n",
              "      <td>False</td>\n",
              "      <td>False</td>\n",
              "      <td>...</td>\n",
              "      <td>False</td>\n",
              "      <td>False</td>\n",
              "      <td>False</td>\n",
              "      <td>False</td>\n",
              "      <td>False</td>\n",
              "      <td>False</td>\n",
              "      <td>False</td>\n",
              "      <td>False</td>\n",
              "      <td>False</td>\n",
              "      <td>True</td>\n",
              "    </tr>\n",
              "  </tbody>\n",
              "</table>\n",
              "<p>35 rows × 35 columns</p>\n",
              "</div>\n",
              "      <button class=\"colab-df-convert\" onclick=\"convertToInteractive('df-c80f1708-069c-4e60-abf8-247136f53c93')\"\n",
              "              title=\"Convert this dataframe to an interactive table.\"\n",
              "              style=\"display:none;\">\n",
              "        \n",
              "  <svg xmlns=\"http://www.w3.org/2000/svg\" height=\"24px\"viewBox=\"0 0 24 24\"\n",
              "       width=\"24px\">\n",
              "    <path d=\"M0 0h24v24H0V0z\" fill=\"none\"/>\n",
              "    <path d=\"M18.56 5.44l.94 2.06.94-2.06 2.06-.94-2.06-.94-.94-2.06-.94 2.06-2.06.94zm-11 1L8.5 8.5l.94-2.06 2.06-.94-2.06-.94L8.5 2.5l-.94 2.06-2.06.94zm10 10l.94 2.06.94-2.06 2.06-.94-2.06-.94-.94-2.06-.94 2.06-2.06.94z\"/><path d=\"M17.41 7.96l-1.37-1.37c-.4-.4-.92-.59-1.43-.59-.52 0-1.04.2-1.43.59L10.3 9.45l-7.72 7.72c-.78.78-.78 2.05 0 2.83L4 21.41c.39.39.9.59 1.41.59.51 0 1.02-.2 1.41-.59l7.78-7.78 2.81-2.81c.8-.78.8-2.07 0-2.86zM5.41 20L4 18.59l7.72-7.72 1.47 1.35L5.41 20z\"/>\n",
              "  </svg>\n",
              "      </button>\n",
              "      \n",
              "  <style>\n",
              "    .colab-df-container {\n",
              "      display:flex;\n",
              "      flex-wrap:wrap;\n",
              "      gap: 12px;\n",
              "    }\n",
              "\n",
              "    .colab-df-convert {\n",
              "      background-color: #E8F0FE;\n",
              "      border: none;\n",
              "      border-radius: 50%;\n",
              "      cursor: pointer;\n",
              "      display: none;\n",
              "      fill: #1967D2;\n",
              "      height: 32px;\n",
              "      padding: 0 0 0 0;\n",
              "      width: 32px;\n",
              "    }\n",
              "\n",
              "    .colab-df-convert:hover {\n",
              "      background-color: #E2EBFA;\n",
              "      box-shadow: 0px 1px 2px rgba(60, 64, 67, 0.3), 0px 1px 3px 1px rgba(60, 64, 67, 0.15);\n",
              "      fill: #174EA6;\n",
              "    }\n",
              "\n",
              "    [theme=dark] .colab-df-convert {\n",
              "      background-color: #3B4455;\n",
              "      fill: #D2E3FC;\n",
              "    }\n",
              "\n",
              "    [theme=dark] .colab-df-convert:hover {\n",
              "      background-color: #434B5C;\n",
              "      box-shadow: 0px 1px 3px 1px rgba(0, 0, 0, 0.15);\n",
              "      filter: drop-shadow(0px 1px 2px rgba(0, 0, 0, 0.3));\n",
              "      fill: #FFFFFF;\n",
              "    }\n",
              "  </style>\n",
              "\n",
              "      <script>\n",
              "        const buttonEl =\n",
              "          document.querySelector('#df-c80f1708-069c-4e60-abf8-247136f53c93 button.colab-df-convert');\n",
              "        buttonEl.style.display =\n",
              "          google.colab.kernel.accessAllowed ? 'block' : 'none';\n",
              "\n",
              "        async function convertToInteractive(key) {\n",
              "          const element = document.querySelector('#df-c80f1708-069c-4e60-abf8-247136f53c93');\n",
              "          const dataTable =\n",
              "            await google.colab.kernel.invokeFunction('convertToInteractive',\n",
              "                                                     [key], {});\n",
              "          if (!dataTable) return;\n",
              "\n",
              "          const docLinkHtml = 'Like what you see? Visit the ' +\n",
              "            '<a target=\"_blank\" href=https://colab.research.google.com/notebooks/data_table.ipynb>data table notebook</a>'\n",
              "            + ' to learn more about interactive tables.';\n",
              "          element.innerHTML = '';\n",
              "          dataTable['output_type'] = 'display_data';\n",
              "          await google.colab.output.renderOutput(dataTable, element);\n",
              "          const docLink = document.createElement('div');\n",
              "          docLink.innerHTML = docLinkHtml;\n",
              "          element.appendChild(docLink);\n",
              "        }\n",
              "      </script>\n",
              "    </div>\n",
              "  </div>\n",
              "  "
            ]
          },
          "metadata": {},
          "execution_count": 45
        }
      ],
      "source": [
        "data.corr() > 0.2"
      ]
    },
    {
      "cell_type": "code",
      "execution_count": 46,
      "metadata": {
        "id": "d5fpGT9vyW3X"
      },
      "outputs": [],
      "source": [
        "lm = LinearRegression()"
      ]
    },
    {
      "cell_type": "code",
      "execution_count": 47,
      "metadata": {
        "id": "okoBvNvAyW7Y"
      },
      "outputs": [],
      "source": [
        "X = np.asarray(data[['baseRent', 'livingSpace', 'noRooms', 'balcony', 'yearConstructed', 'hasKitchen', 'lift', 'regio1_other']])\n",
        "Y = np.asarray(data['totalRent'])"
      ]
    },
    {
      "cell_type": "code",
      "execution_count": 48,
      "metadata": {
        "id": "8CqBfzZNF75-"
      },
      "outputs": [],
      "source": [
        "X_train, X_test, Y_train, Y_test = train_test_split(X, Y, test_size = 0.25, random_state = 42)"
      ]
    },
    {
      "cell_type": "code",
      "source": [
        "scaler = StandardScaler()\n",
        "X_train = scaler.fit_transform(X_train)\n",
        "Y_train = scaler.fit_transform(Y_train.reshape(-1,1))\n",
        "X_test = scaler.fit_transform(X_test)\n",
        "Y_test = scaler.fit_transform(Y_test.reshape(-1,1))"
      ],
      "metadata": {
        "id": "k7gzqW4jwQOV"
      },
      "execution_count": 49,
      "outputs": []
    },
    {
      "cell_type": "code",
      "execution_count": 50,
      "metadata": {
        "colab": {
          "base_uri": "https://localhost:8080/"
        },
        "id": "18F-xVyGyW8m",
        "outputId": "1e5511a4-7db5-4c25-9434-184f41697ecc"
      },
      "outputs": [
        {
          "output_type": "execute_result",
          "data": {
            "text/plain": [
              "LinearRegression()"
            ]
          },
          "metadata": {},
          "execution_count": 50
        }
      ],
      "source": [
        "lm.fit(X_train, Y_train)"
      ]
    },
    {
      "cell_type": "code",
      "execution_count": 51,
      "metadata": {
        "colab": {
          "base_uri": "https://localhost:8080/"
        },
        "id": "bPe72Xs-0GDq",
        "outputId": "4b446b80-f2e6-401a-9e0a-c3419b4b281a"
      },
      "outputs": [
        {
          "output_type": "execute_result",
          "data": {
            "text/plain": [
              "array([[ 0.39949106],\n",
              "       [-0.76763223],\n",
              "       [-0.23543445],\n",
              "       [ 0.38371186],\n",
              "       [ 2.38930477]])"
            ]
          },
          "metadata": {},
          "execution_count": 51
        }
      ],
      "source": [
        "Yhat = lm.predict(X_test)\n",
        "Yhat[0:5]"
      ]
    },
    {
      "cell_type": "code",
      "source": [
        "errors = mean_squared_error(Y_test, Yhat)"
      ],
      "metadata": {
        "id": "0v_XTOfesc1x"
      },
      "execution_count": 52,
      "outputs": []
    },
    {
      "cell_type": "code",
      "source": [
        "errors"
      ],
      "metadata": {
        "colab": {
          "base_uri": "https://localhost:8080/"
        },
        "id": "XV-P2Q14sftV",
        "outputId": "e25a6303-78a7-4397-9e43-b20d15f71f90"
      },
      "execution_count": 53,
      "outputs": [
        {
          "output_type": "execute_result",
          "data": {
            "text/plain": [
              "0.02808401970085717"
            ]
          },
          "metadata": {},
          "execution_count": 53
        }
      ]
    },
    {
      "cell_type": "code",
      "execution_count": 54,
      "metadata": {
        "id": "BVfdV4qHsorr"
      },
      "outputs": [],
      "source": [
        "score = lm.score(X_test, Y_test)"
      ]
    },
    {
      "cell_type": "code",
      "execution_count": 55,
      "metadata": {
        "colab": {
          "base_uri": "https://localhost:8080/"
        },
        "id": "qiCcchrTs3ZA",
        "outputId": "fee96a73-98cd-4e09-ecf3-cc0891b9cbdd"
      },
      "outputs": [
        {
          "output_type": "execute_result",
          "data": {
            "text/plain": [
              "0.9719159802991428"
            ]
          },
          "metadata": {},
          "execution_count": 55
        }
      ],
      "source": [
        "score"
      ]
    },
    {
      "cell_type": "code",
      "execution_count": 56,
      "metadata": {
        "colab": {
          "base_uri": "https://localhost:8080/",
          "height": 265
        },
        "id": "r1GwCHhmtDv0",
        "outputId": "1c6564ca-5876-434d-cbc5-e44af479d29e"
      },
      "outputs": [
        {
          "output_type": "display_data",
          "data": {
            "text/plain": [
              "<Figure size 432x288 with 1 Axes>"
            ],
            "image/png": "[encoded data removed]"
          },
          "metadata": {
            "needs_background": "light"
          }
        }
      ],
      "source": [
        "plt.hist(Y_test)\n",
        "plt.show()"
      ]
    }
  ],
  "metadata": {
    "colab": {
      "collapsed_sections": [],
      "name": "talentmine.ipynb",
      "provenance": [],
      "authorship_tag": "ABX9TyPFiy05Di22f5aeKGC8YUSx",
      "include_colab_link": true
    },
    "kernelspec": {
      "display_name": "Python 3",
      "name": "python3"
    },
    "language_info": {
      "name": "python"
    }
  },
  "nbformat": 4,
  "nbformat_minor": 0
}